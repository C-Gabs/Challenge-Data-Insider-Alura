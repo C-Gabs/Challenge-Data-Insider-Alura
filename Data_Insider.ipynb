{
  "cells": [
    {
      "cell_type": "markdown",
      "metadata": {
        "id": "kN7-osYlAXXg"
      },
      "source": [
        "#Configuración de ambiente"
      ]
    },
    {
      "cell_type": "code",
      "execution_count": 1,
      "metadata": {
        "colab": {
          "base_uri": "https://localhost:8080/"
        },
        "id": "M4YNs3kiPJz4",
        "outputId": "f279d545-6ae6-4056-f87a-1a9b3a7832f9"
      },
      "outputs": [
        {
          "output_type": "stream",
          "name": "stdout",
          "text": [
            "Mounted at /content/drive\n"
          ]
        }
      ],
      "source": [
        "from google.colab import drive\n",
        "drive.mount('/content/drive')"
      ]
    },
    {
      "cell_type": "code",
      "execution_count": 2,
      "metadata": {
        "colab": {
          "base_uri": "https://localhost:8080/"
        },
        "id": "n6KMQ9A6AGDg",
        "outputId": "0e93271b-69bd-414b-859e-e2f478248d27"
      },
      "outputs": [
        {
          "output_type": "stream",
          "name": "stdout",
          "text": [
            "Collecting polygon-api-client\n",
            "  Downloading polygon_api_client-1.15.3-py3-none-any.whl.metadata (952 bytes)\n",
            "Collecting bar_chart_race\n",
            "  Downloading bar_chart_race-0.1.0-py3-none-any.whl.metadata (4.2 kB)\n",
            "Collecting ffmpeg\n",
            "  Downloading ffmpeg-1.4.tar.gz (5.1 kB)\n",
            "  Preparing metadata (setup.py) ... \u001b[?25l\u001b[?25hdone\n",
            "Requirement already satisfied: certifi<2026.0.0,>=2022.5.18 in /usr/local/lib/python3.11/dist-packages (from polygon-api-client) (2025.7.14)\n",
            "Requirement already satisfied: urllib3<3.0.0,>=1.26.9 in /usr/local/lib/python3.11/dist-packages (from polygon-api-client) (2.5.0)\n",
            "Collecting websockets<15.0,>=10.3 (from polygon-api-client)\n",
            "  Downloading websockets-14.2-cp311-cp311-manylinux_2_5_x86_64.manylinux1_x86_64.manylinux_2_17_x86_64.manylinux2014_x86_64.whl.metadata (6.8 kB)\n",
            "Requirement already satisfied: pandas>=0.24 in /usr/local/lib/python3.11/dist-packages (from bar_chart_race) (2.2.2)\n",
            "Requirement already satisfied: matplotlib>=3.1 in /usr/local/lib/python3.11/dist-packages (from bar_chart_race) (3.10.0)\n",
            "Requirement already satisfied: contourpy>=1.0.1 in /usr/local/lib/python3.11/dist-packages (from matplotlib>=3.1->bar_chart_race) (1.3.2)\n",
            "Requirement already satisfied: cycler>=0.10 in /usr/local/lib/python3.11/dist-packages (from matplotlib>=3.1->bar_chart_race) (0.12.1)\n",
            "Requirement already satisfied: fonttools>=4.22.0 in /usr/local/lib/python3.11/dist-packages (from matplotlib>=3.1->bar_chart_race) (4.59.0)\n",
            "Requirement already satisfied: kiwisolver>=1.3.1 in /usr/local/lib/python3.11/dist-packages (from matplotlib>=3.1->bar_chart_race) (1.4.8)\n",
            "Requirement already satisfied: numpy>=1.23 in /usr/local/lib/python3.11/dist-packages (from matplotlib>=3.1->bar_chart_race) (2.0.2)\n",
            "Requirement already satisfied: packaging>=20.0 in /usr/local/lib/python3.11/dist-packages (from matplotlib>=3.1->bar_chart_race) (25.0)\n",
            "Requirement already satisfied: pillow>=8 in /usr/local/lib/python3.11/dist-packages (from matplotlib>=3.1->bar_chart_race) (11.3.0)\n",
            "Requirement already satisfied: pyparsing>=2.3.1 in /usr/local/lib/python3.11/dist-packages (from matplotlib>=3.1->bar_chart_race) (3.2.3)\n",
            "Requirement already satisfied: python-dateutil>=2.7 in /usr/local/lib/python3.11/dist-packages (from matplotlib>=3.1->bar_chart_race) (2.9.0.post0)\n",
            "Requirement already satisfied: pytz>=2020.1 in /usr/local/lib/python3.11/dist-packages (from pandas>=0.24->bar_chart_race) (2025.2)\n",
            "Requirement already satisfied: tzdata>=2022.7 in /usr/local/lib/python3.11/dist-packages (from pandas>=0.24->bar_chart_race) (2025.2)\n",
            "Requirement already satisfied: six>=1.5 in /usr/local/lib/python3.11/dist-packages (from python-dateutil>=2.7->matplotlib>=3.1->bar_chart_race) (1.17.0)\n",
            "Downloading polygon_api_client-1.15.3-py3-none-any.whl (54 kB)\n",
            "\u001b[2K   \u001b[90m━━━━━━━━━━━━━━━━━━━━━━━━━━━━━━━━━━━━━━━━\u001b[0m \u001b[32m54.6/54.6 kB\u001b[0m \u001b[31m3.3 MB/s\u001b[0m eta \u001b[36m0:00:00\u001b[0m\n",
            "\u001b[?25hDownloading bar_chart_race-0.1.0-py3-none-any.whl (156 kB)\n",
            "\u001b[2K   \u001b[90m━━━━━━━━━━━━━━━━━━━━━━━━━━━━━━━━━━━━━━━━\u001b[0m \u001b[32m156.8/156.8 kB\u001b[0m \u001b[31m9.1 MB/s\u001b[0m eta \u001b[36m0:00:00\u001b[0m\n",
            "\u001b[?25hDownloading websockets-14.2-cp311-cp311-manylinux_2_5_x86_64.manylinux1_x86_64.manylinux_2_17_x86_64.manylinux2014_x86_64.whl (169 kB)\n",
            "\u001b[2K   \u001b[90m━━━━━━━━━━━━━━━━━━━━━━━━━━━━━━━━━━━━━━━━\u001b[0m \u001b[32m169.9/169.9 kB\u001b[0m \u001b[31m16.3 MB/s\u001b[0m eta \u001b[36m0:00:00\u001b[0m\n",
            "\u001b[?25hBuilding wheels for collected packages: ffmpeg\n",
            "  Building wheel for ffmpeg (setup.py) ... \u001b[?25l\u001b[?25hdone\n",
            "  Created wheel for ffmpeg: filename=ffmpeg-1.4-py3-none-any.whl size=6083 sha256=c5dc20e7a14d08cbc445b32e4f666d6c66360c2a102dca655cae7c917d1d4d57\n",
            "  Stored in directory: /root/.cache/pip/wheels/56/30/c5/576bdd729f3bc062d62a551be7fefd6ed2f761901568171e4e\n",
            "Successfully built ffmpeg\n",
            "Installing collected packages: ffmpeg, websockets, polygon-api-client, bar_chart_race\n",
            "  Attempting uninstall: websockets\n",
            "    Found existing installation: websockets 15.0.1\n",
            "    Uninstalling websockets-15.0.1:\n",
            "      Successfully uninstalled websockets-15.0.1\n",
            "Successfully installed bar_chart_race-0.1.0 ffmpeg-1.4 polygon-api-client-1.15.3 websockets-14.2\n"
          ]
        }
      ],
      "source": [
        "# Instalamos polygon api pra extraer datos financieros\n",
        "# Instalamos bar_chart_race para la creación de graficos de carreras de barras\n",
        "# Instalamos ffmpeg para poder guardar los graficos de carrera de barras en formato de video\n",
        "\n",
        "!pip install polygon-api-client bar_chart_race ffmpeg"
      ]
    },
    {
      "cell_type": "code",
      "execution_count": 3,
      "metadata": {
        "id": "D3mYW9zUl6D-"
      },
      "outputs": [],
      "source": [
        "import numpy as np\n",
        "import pandas as pd\n",
        "import matplotlib.pyplot as plt\n",
        "import seaborn as sns\n",
        "import plotly.express as px\n",
        "import plotly.graph_objects as go\n",
        "import os\n",
        "from google.colab import userdata\n",
        "from polygon import RESTClient\n",
        "from datetime import datetime\n",
        "import bar_chart_race as bcr\n",
        "import warnings"
      ]
    },
    {
      "cell_type": "code",
      "source": [
        "# Versiones al momento de la ejecución y versiones usadas al momento de la creación de este codigo\n",
        "\n",
        "!python -V  # Python 3.11.13\n",
        "print('------')\n",
        "!pip show Pandas | grep 'Name\\|Version'  # pandas Version: 2.2.2\n",
        "print('------')\n",
        "!pip show Numpy | grep 'Name\\|Version'   # numpy Version: 2.0.2\n",
        "print('------')\n",
        "!pip show Matplotlib | grep 'Name\\|Version'  # matplotlib Version: 3.10.0\n",
        "print('------')\n",
        "!pip show plotly | grep 'Name\\|Version'  # plotly Version: 5.24.1\n",
        "print('------')\n",
        "!pip show seaborn | grep 'Name\\|Version' # seaborn Version: 0.13.2\n",
        "print('------')\n",
        "!pip show polygon-api-client | grep 'Name\\|Version'  # polygon-api-client Version: 1.15.3\n",
        "print('------')\n",
        "!pip show bar_chart_race | grep 'Name\\|Version'  # bar-chart-race Version: 0.1.0\n",
        "print('------')\n",
        "!pip show ffmpeg | grep 'Name\\|Version'  # ffmpeg Version: 1.4\n",
        "print('------')\n"
      ],
      "metadata": {
        "colab": {
          "base_uri": "https://localhost:8080/"
        },
        "id": "Vzt9QLPTdnqa",
        "outputId": "10200a01-de84-4842-9def-66f7c460c612"
      },
      "execution_count": 11,
      "outputs": [
        {
          "output_type": "stream",
          "name": "stdout",
          "text": [
            "Python 3.11.13\n",
            "------\n",
            "Name: pandas\n",
            "Version: 2.2.2\n",
            "------\n",
            "Name: numpy\n",
            "Version: 2.0.2\n",
            "Name: lapack-lite\n",
            "Name: dragon4\n",
            "Name: libdivide\n",
            "Name: Meson\n",
            "Name: spin\n",
            "Name: OpenBLAS\n",
            "Name: LAPACK\n",
            "Name: GCC runtime library\n",
            "Version 3.1, 31 March 2009\n",
            "                       Version 3, 29 June 2007\n",
            "  5. Conveying Modified Source Versions.\n",
            "  14. Revised Versions of this License.\n",
            "Name: libquadmath\n",
            "------\n",
            "Name: matplotlib\n",
            "Version: 3.10.0\n",
            "------\n",
            "Name: plotly\n",
            "Version: 5.24.1\n",
            "------\n",
            "Name: seaborn\n",
            "Version: 0.13.2\n",
            "------\n",
            "Name: polygon-api-client\n",
            "Version: 1.15.3\n",
            "------\n",
            "Name: bar-chart-race\n",
            "Version: 0.1.0\n",
            "------\n",
            "Name: ffmpeg\n",
            "Version: 1.4\n",
            "------\n"
          ]
        }
      ]
    },
    {
      "cell_type": "markdown",
      "metadata": {
        "id": "Xk-cBixbAebK"
      },
      "source": [
        "#Obtención de datos"
      ]
    },
    {
      "cell_type": "markdown",
      "metadata": {
        "id": "cRO2byk4M7Rs"
      },
      "source": [
        "##Importando datos (Forbes Global 2008-2023 / Fortune Global 500 / Continentes y Paises)"
      ]
    },
    {
      "cell_type": "code",
      "execution_count": null,
      "metadata": {
        "id": "diovKinITgrP"
      },
      "outputs": [],
      "source": [
        "carpeta_forbes_global = '/content/drive/MyDrive/Alura/Challenge Data Insider/aroissues-forbes-global-2000-2008-2019/'\n",
        "carpeta_continentes_paises = '/content/drive/MyDrive/Alura/Challenge Data Insider/continentes_y_paises/'\n",
        "carpeta_fortune_global = '/content/drive/MyDrive/Alura/Challenge Data Insider/fortune_global_500/'\n",
        "\n",
        "\n",
        "def leer_archivos(carpeta:str):\n",
        "\n",
        "    \"\"\"\n",
        "    La funcion obtiene la direccion de una carpeta e importa todos los datos a una lista de dataframes\n",
        "\n",
        "    arg:\n",
        "        carpeta (str): direccion de la carpeta donde se encuentran los archivos\n",
        "\n",
        "    return:\n",
        "        datos (list): lista de dataframes con los datos importados\n",
        "\n",
        "    raise:\n",
        "        Exception: si ocurre un error al importar el archivo\n",
        "        seguramente sean excepciones relacionadas con la funcion\n",
        "        pd.read_html() (ValueError, FileNotFoundError, urllib.error.URLError,\n",
        "        urllib.error.URLError)\n",
        "\n",
        "    \"\"\"\n",
        "    datos = []\n",
        "    for archivo in os.listdir(carpeta):\n",
        "        ruta_completa = os.path.join(carpeta, archivo)\n",
        "\n",
        "        if os.path.isfile(ruta_completa):\n",
        "          try:\n",
        "            if archivo.endswith('.csv'):\n",
        "              df = pd.read_csv(ruta_completa)\n",
        "              datos.append(df)\n",
        "              print(f\"Archivo {archivo} importado correctamente.\")\n",
        "            elif archivo.endswith('.xlsx'):\n",
        "              df = pd.read_excel(ruta_completa)\n",
        "              datos.append(df)\n",
        "              print(f\"Archivo {archivo} importado correctamente.\")\n",
        "            else:\n",
        "              df = pd.read_html(ruta_completa)\n",
        "              df = pd.DataFrame(df[0])\n",
        "              datos.append(df)\n",
        "              print(f\"Archivo {archivo} importado correctamente.\")\n",
        "          except Exception as e:\n",
        "            print(f\"Error al importar el archivo {archivo}: {e}\")\n",
        "    return datos\n"
      ]
    },
    {
      "cell_type": "code",
      "execution_count": null,
      "metadata": {
        "collapsed": true,
        "id": "WpgBArSY1BNM"
      },
      "outputs": [],
      "source": [
        "datos_forbes_global = leer_archivos(carpeta_forbes_global)\n",
        "datos_continentes_paises = leer_archivos(carpeta_continentes_paises)\n",
        "datos_fortune = leer_archivos(carpeta_fortune_global)"
      ]
    },
    {
      "cell_type": "markdown",
      "metadata": {
        "id": "qOhDKHMgN_d2"
      },
      "source": [
        "##Importando y exportando datos Polygon"
      ]
    },
    {
      "cell_type": "code",
      "execution_count": null,
      "metadata": {
        "collapsed": true,
        "id": "lJW-3Qf5wkqi"
      },
      "outputs": [],
      "source": [
        "# Obtenemos la llave para acceder a la API\n",
        "client = RESTClient(userdata.get('POLYGON_API_KEY'))\n",
        "\n",
        "# Define una lista de tickers de las empresas\n",
        "tickers_empresas = [\"NTDOF\", \"EA\", \"KONMY\", \"SQNXF\", \"UBSFF\"]\n",
        "\n",
        "# Crea un diccionario para almacenar los datos\n",
        "datos_historicos_estructurados = {}\n",
        "\n",
        "# Itera sobre los tickers y obtén los datos históricos\n",
        "for ticker in tickers_empresas:\n",
        "  try:\n",
        "    # Obtiene los datos agregados diarios para el rango de fechas deseado\n",
        "    resp = client.get_aggs(ticker, 1, \"day\", \"2024-01-01\", \"2024-12-31\")\n",
        "\n",
        "    # Procesa la respuesta para extraer los datos específicos\n",
        "    datos_empresa = []\n",
        "    if resp: # Verifica si la respuesta no está vacía\n",
        "      for agg in resp:\n",
        "        # Convierte el timestamp a un formato de fecha legible (Polygon obtiene los datos de fecha en milisegundos)\n",
        "        fecha = datetime.fromtimestamp(agg.timestamp / 1000)\n",
        "        fecha = fecha.strftime('%d-%m-%Y')\n",
        "        # Ahora la fecha se almacena como dato tipo object, entonces la convertimos a un dato tipo datetime\n",
        "        fecha = pd.to_datetime(fecha, format='%d-%m-%Y')\n",
        "        # Generamos una lista que almacenará los datos de cada ticker en forma de diccionario\n",
        "        datos_empresa.append({\n",
        "            \"Symbol\": ticker,\n",
        "            \"Fecha\": fecha,\n",
        "            \"Precio_Apertura\": agg.open,\n",
        "            \"Precio_Cierre\": agg.close,\n",
        "            \"Precio_Maximo\": agg.high,\n",
        "            \"Precio_Minimo\": agg.low\n",
        "        })\n",
        "    # Se almacenan los datos en el diccionario\n",
        "    datos_historicos_estructurados[ticker] = datos_empresa\n",
        "    print(f\"Datos históricos de {ticker} obtenidos exitosamente.\")\n",
        "  except Exception as e:\n",
        "    print(f\"Error al obtener y procesar datos para {ticker}: {e}\")"
      ]
    },
    {
      "cell_type": "code",
      "execution_count": null,
      "metadata": {
        "id": "rG0t3981948e"
      },
      "outputs": [],
      "source": [
        "print(datos_historicos_estructurados['NTDOF'])"
      ]
    },
    {
      "cell_type": "code",
      "execution_count": null,
      "metadata": {
        "id": "WZlYldWcRhxX"
      },
      "outputs": [],
      "source": [
        "# Convertimos los datos de cada empresa a dataframes\n",
        "\n",
        "df_nintendo = pd.DataFrame(datos_historicos_estructurados['NTDOF'])\n",
        "df_ea = pd.DataFrame(datos_historicos_estructurados['EA'])\n",
        "df_konami = pd.DataFrame(datos_historicos_estructurados['KONMY'])\n",
        "df_squarenix = pd.DataFrame(datos_historicos_estructurados['SQNXF'])\n",
        "df_ubisoft = pd.DataFrame(datos_historicos_estructurados['UBSFF'])\n"
      ]
    },
    {
      "cell_type": "code",
      "execution_count": null,
      "metadata": {
        "id": "EksEkA0GYeJU"
      },
      "outputs": [],
      "source": [
        "df_ubisoft.head()"
      ]
    },
    {
      "cell_type": "code",
      "source": [
        "# Creamos un dataframe general con todos los datos\n",
        "\n",
        "df_polygon = pd.concat([df_nintendo, df_ea, df_konami, df_squarenix, df_ubisoft])\n",
        "\n",
        "df_polygon.to_csv('datos_polygon.csv', index=False)"
      ],
      "metadata": {
        "id": "XrwB6tday5I7"
      },
      "execution_count": null,
      "outputs": []
    },
    {
      "cell_type": "code",
      "source": [
        "display(df_polygon.head(),df_polygon.info())"
      ],
      "metadata": {
        "id": "Vg109MoIzJNH"
      },
      "execution_count": null,
      "outputs": []
    },
    {
      "cell_type": "code",
      "execution_count": null,
      "metadata": {
        "id": "q09dCuueRhtf"
      },
      "outputs": [],
      "source": [
        "# Exportamos los datos en formato .csv\n",
        "\n",
        "df_nintendo.to_csv('datos_nintendo_2024.csv', index=False)\n",
        "df_ea.to_csv('datos_ea_2024.csv', index=False)\n",
        "df_konami.to_csv('datos_konami_2024.csv', index=False)\n",
        "df_squarenix.to_csv('datos_squarenix_2024.csv', index=False)\n",
        "df_ubisoft.to_csv('datos_ubisoft_2024.csv', index=False)"
      ]
    },
    {
      "cell_type": "markdown",
      "metadata": {
        "id": "4zpw-FWwA_2X"
      },
      "source": [
        "#Data Wrangling"
      ]
    },
    {
      "cell_type": "markdown",
      "metadata": {
        "id": "i0H7BM8PMnKR"
      },
      "source": [
        "##Datos Forbes"
      ]
    },
    {
      "cell_type": "code",
      "execution_count": null,
      "metadata": {
        "id": "ij4OmtmRnrsC"
      },
      "outputs": [],
      "source": [
        "# iteramos en la lista de dataframes y renombramos las columnas\n",
        "\n",
        "for df in datos_forbes_global:\n",
        "  df.rename(columns={'Company': 'Empresa', 'Industry':'Industria',\n",
        "                     'Country':'Pais', 'Sales':'Ingresos', 'Profits':'Ganancias',\n",
        "                     'Assets':'Activos', 'Market_Value':'Valor_de_mercado'}, inplace=True)\n",
        "\n",
        "# Añadimos 2 nuevas columnas\n",
        "  df['Margen_de_rentabilidad (%)'] = round((df['Ganancias'] / df['Ingresos'])*100,2)\n",
        "  df['ROA (%)'] = round((df['Ganancias'] / df['Activos'])*100,2)\n"
      ]
    },
    {
      "cell_type": "code",
      "execution_count": null,
      "metadata": {
        "id": "VaDMZtc53SjH"
      },
      "outputs": [],
      "source": [
        "# Añadimos la columna año, siguiendo el orden en el que se importaron\n",
        "# lo hacemos de esta forma porque no se importaron con un orden especifico\n",
        "# de lo contrario, usariamos un ciclo for\n",
        "\n",
        "datos_forbes_global[0]['Ano'] = 2009\n",
        "datos_forbes_global[1]['Ano'] = 2008\n",
        "datos_forbes_global[2]['Ano'] = 2010\n",
        "datos_forbes_global[3]['Ano'] = 2011\n",
        "datos_forbes_global[4]['Ano'] = 2014\n",
        "datos_forbes_global[5]['Ano'] = 2015\n",
        "datos_forbes_global[6]['Ano'] = 2013\n",
        "datos_forbes_global[7]['Ano'] = 2012\n",
        "datos_forbes_global[8]['Ano'] = 2016\n",
        "datos_forbes_global[9]['Ano'] = 2022\n",
        "datos_forbes_global[10]['Ano'] = 2021\n",
        "datos_forbes_global[11]['Ano'] = 2020\n",
        "datos_forbes_global[12]['Ano'] = 2019\n",
        "datos_forbes_global[13]['Ano'] = 2018\n",
        "datos_forbes_global[14]['Ano'] = 2023\n",
        "datos_forbes_global[15]['Ano'] = 2017"
      ]
    },
    {
      "cell_type": "code",
      "execution_count": null,
      "metadata": {
        "id": "28fZs4tVuPYl"
      },
      "outputs": [],
      "source": [
        "datos_forbes_global[0].head()"
      ]
    },
    {
      "cell_type": "markdown",
      "metadata": {
        "id": "4VwjXRgnMsiC"
      },
      "source": [
        "##Datos Fortune Global 500"
      ]
    },
    {
      "cell_type": "code",
      "execution_count": null,
      "metadata": {
        "id": "U3kwrHgE3Tht"
      },
      "outputs": [],
      "source": [
        "# Imprimimos los nombres de las columnas de cada dataframe\n",
        "# Esto porque hay inconsistencias en los nombres de las columnas\n",
        "# De esta forma podemos identificar algún elemento común para agilizar\n",
        "# el proceso de eliminación de columnas\n",
        "for df in datos_fortune:\n",
        "  print(df.columns)"
      ]
    },
    {
      "cell_type": "code",
      "execution_count": null,
      "metadata": {
        "id": "RCT6M_ILEeMN"
      },
      "outputs": [],
      "source": [
        "# Renombramos las columnas que deseamos mantener y eliminamos el resto\n",
        "\n",
        "for df in datos_fortune:\n",
        "  df.rename(columns={'RemoveName':'Empresa', 'RemoveEmployees':'Empleados'}, inplace=True)\n",
        "  df.drop([columna for columna in df.columns if 'Remove' in columna], inplace=True, axis=1)\n",
        "datos_fortune[0].head()"
      ]
    },
    {
      "cell_type": "code",
      "execution_count": null,
      "metadata": {
        "collapsed": true,
        "id": "KljzeWAD8Ncc"
      },
      "outputs": [],
      "source": [
        "# Al igual que en el caso anterior, añadimos la columna año de forma manual\n",
        "\n",
        "datos_fortune[0]['Ano'] = 2019\n",
        "datos_fortune[1]['Ano'] = 2021\n",
        "datos_fortune[2]['Ano'] = 2020\n",
        "datos_fortune[3]['Ano'] = 2015\n",
        "datos_fortune[4]['Ano'] = 2017\n",
        "datos_fortune[5]['Ano'] = 2018\n",
        "datos_fortune[6]['Ano'] = 2016\n",
        "datos_fortune[7]['Ano'] = 2022"
      ]
    },
    {
      "cell_type": "code",
      "execution_count": null,
      "metadata": {
        "id": "pbF4uNSXOINh"
      },
      "outputs": [],
      "source": [
        "datos_fortune[7].head()"
      ]
    },
    {
      "cell_type": "markdown",
      "metadata": {
        "id": "O9qzfPaKMxJk"
      },
      "source": [
        "##Datos Continente_Pais"
      ]
    },
    {
      "cell_type": "code",
      "execution_count": null,
      "metadata": {
        "id": "EcXhBABBLBdo"
      },
      "outputs": [],
      "source": [
        "datos_continentes_paises[0].info()"
      ]
    },
    {
      "cell_type": "code",
      "execution_count": null,
      "metadata": {
        "id": "g3hfL79pLIAi"
      },
      "outputs": [],
      "source": [
        "# Renombramos nombres de columnas\n",
        "\n",
        "datos_continentes_paises[0].rename(columns={'Country':'Pais', 'Code':'Codigo'}, inplace=True)"
      ]
    },
    {
      "cell_type": "code",
      "execution_count": null,
      "metadata": {
        "id": "0oXPoXEo1A-x"
      },
      "outputs": [],
      "source": [
        "datos_continentes_paises[0].head()"
      ]
    },
    {
      "cell_type": "code",
      "execution_count": null,
      "metadata": {
        "id": "drWy3huUt955"
      },
      "outputs": [],
      "source": [
        "datos_continentes_paises[1].info()"
      ]
    },
    {
      "cell_type": "code",
      "execution_count": null,
      "metadata": {
        "id": "lsQxCjVDLdwp"
      },
      "outputs": [],
      "source": [
        "# Renombramos nombres de columnas\n",
        "\n",
        "datos_continentes_paises[1].rename(columns={'Continent_Name':'Continente',\n",
        "                                            'Three_Letter_Country_Code':'Codigo',\n",
        "                                            'Country_Name':'Pais'}, inplace=True)\n",
        "datos_continentes_paises[1].drop('Continent_Code', inplace=True, axis=1)"
      ]
    },
    {
      "cell_type": "code",
      "execution_count": null,
      "metadata": {
        "id": "hDsyJv2CLczi"
      },
      "outputs": [],
      "source": [
        "datos_continentes_paises[1].head()"
      ]
    },
    {
      "cell_type": "code",
      "execution_count": null,
      "metadata": {
        "id": "BqA9drs7J2_D"
      },
      "outputs": [],
      "source": [
        "datos_continentes_paises[1]['Continente'].unique()"
      ]
    },
    {
      "cell_type": "markdown",
      "metadata": {
        "id": "bNx7-RZISye1"
      },
      "source": [
        "#Junción de tablas y analisis exploratorio"
      ]
    },
    {
      "cell_type": "markdown",
      "metadata": {
        "id": "EHlydHHxloE2"
      },
      "source": [
        "## Junción y análisis continentes_paises\n"
      ]
    },
    {
      "cell_type": "code",
      "execution_count": null,
      "metadata": {
        "id": "33MiZaBuWgb4"
      },
      "outputs": [],
      "source": [
        "# Unificamos los datos de la lista datos_continentes_paises en un solo dataframe\n",
        "\n",
        "df_paises_continentes = pd.merge(datos_continentes_paises[0], datos_continentes_paises[1], how='outer', on='Codigo')\n",
        "\n",
        "\n",
        "df_paises_continentes = df_paises_continentes[['Pais_x', 'Codigo', 'Continente']].rename(columns={'Pais_x': 'Pais'})\n",
        "\n",
        "\n",
        "display(df_paises_continentes.info(), df_paises_continentes.sample(10))"
      ]
    },
    {
      "cell_type": "code",
      "source": [
        "df_paises_continentes.loc[df_paises_continentes['Pais'].isnull()]"
      ],
      "metadata": {
        "id": "C6ECsNWvMEcg"
      },
      "execution_count": null,
      "outputs": []
    },
    {
      "cell_type": "code",
      "execution_count": null,
      "metadata": {
        "id": "jh7KNh9nIWS6"
      },
      "outputs": [],
      "source": [
        "#Verificamos los duplicados y evaluamos si debemos eliminarlos o no\n",
        "\n",
        "df_paises_continentes.loc[df_paises_continentes['Codigo'].duplicated(keep=False)]"
      ]
    },
    {
      "cell_type": "code",
      "source": [
        "# Eliminamos los duplicados para facilitar la operacion de llenado de datos nulos en la columna 'Pais'\n",
        "\n",
        "df_paises_continentes.drop_duplicates(subset='Codigo', inplace=True)"
      ],
      "metadata": {
        "id": "ieuH4orfhwGT"
      },
      "execution_count": null,
      "outputs": []
    },
    {
      "cell_type": "code",
      "source": [
        "# Creamos un dataframe con los datos faltantes y los introducimos en el dataframe original usando la columna codigo como indice\n",
        "paises_faltantes = {'Codigo': ['ALA', 'ANT', 'ATA', 'ATF', 'BES', 'BHS', 'BLM', 'BVT', 'CCK', 'CXR', 'ESH', 'GLP', 'GUF', 'HMD', 'IOT', 'MSR', 'MTQ', 'MYT', 'NFK', 'NRU', 'PCN', 'PSE', 'REU', 'SGS', 'SHN', 'SJM', 'TCA', 'TKL', 'UMI', 'VAT', 'VIR', 'WLF'],\n",
        "        'Pais': ['Åland Islands', 'Antigua and Barbuda', 'Antarctica', 'French Southern Territories', 'Bonaire, Sint Eustatius and Saba', 'Bahamas (the)', 'Saint Barthélemy', 'Bouvet Island', 'Cocos (Keeling) Islands (the)', 'Christmas Island', 'Western Sahara',\n",
        "                    'Guadeloupe', 'French Guiana', 'Heard Island and McDonald Islands', 'British Indian Ocean Territory (the)', 'Montserrat', 'Martinique', 'Mayotte', 'Norfolk Island', 'Nauru', 'Pitcairn', 'Palestine, State of', 'Réunion', 'South Georgia and the South Sandwich Islands',\n",
        "                    'Saint Helena, Ascension and Tristan da Cunha', 'Svalbard and Jan Mayen', 'Turks and Caicos Islands (the)', 'Tokelau', 'United States Minor Outlying Islands (the)', 'Holy See (the)', 'Virgin Islands (U.S.)', 'Wallis and Futuna']}\n",
        "\n",
        "df = pd.DataFrame(paises_faltantes)\n",
        "df.set_index('Codigo', inplace=True)\n",
        "df_paises_continentes.set_index('Codigo', inplace=True)\n",
        "\n",
        "df_paises_continentes['Pais'] = df_paises_continentes['Pais'].fillna(df['Pais'])\n",
        "\n",
        "df_paises_continentes.reset_index(inplace=True)\n",
        "df_paises_continentes.info()"
      ],
      "metadata": {
        "id": "XS4po20eQe10"
      },
      "execution_count": null,
      "outputs": []
    },
    {
      "cell_type": "code",
      "source": [
        "# Observamos cuales son los valores nulos que faltan por solucionar\n",
        "df_paises_continentes.loc[df_paises_continentes['Continente'].isnull()]"
      ],
      "metadata": {
        "id": "eCYIfjnkZK0a"
      },
      "execution_count": null,
      "outputs": []
    },
    {
      "cell_type": "code",
      "source": [
        "# Cambiamos el codigo KSV, este ya no se usa, ahora se utiliza XKX\n",
        "\n",
        "df_paises_continentes.loc[df_paises_continentes['Codigo'] == 'KSV', 'Continente'] = 'Europe'\n",
        "\n",
        "# Eliminamos el resto de valores, pues no pertenecen a ningun país\n",
        "df_paises_continentes.dropna(inplace=True)\n",
        "\n",
        "df_paises_continentes.info()"
      ],
      "metadata": {
        "id": "yQnyq2zGzdfz"
      },
      "execution_count": null,
      "outputs": []
    },
    {
      "cell_type": "markdown",
      "source": [
        "## Junción y análisis forbes 2000"
      ],
      "metadata": {
        "id": "TvHJL5oPtQML"
      }
    },
    {
      "cell_type": "code",
      "execution_count": null,
      "metadata": {
        "id": "ihhiPIl1t9vc"
      },
      "outputs": [],
      "source": [
        "# unificamos los dataframes Forbes 2000 en el periodo solicitado para trabajar las preguntas que debemos resolver\n",
        "\n",
        "# Dataframe de los datos en el periodo 2015 - 2022\n",
        "df_forbes_2015_2022 = pd.concat([df for df in datos_forbes_global if df['Ano'].iloc[0] >= 2015 and df['Ano'].iloc[0] <= 2022])"
      ]
    },
    {
      "cell_type": "code",
      "source": [
        "df_forbes_2015_2022['Industria'].unique()"
      ],
      "metadata": {
        "id": "0uan-s7pRpao"
      },
      "execution_count": null,
      "outputs": []
    },
    {
      "cell_type": "code",
      "source": [
        "df_forbes_2015_2022['Industria'].loc[df_forbes_2015_2022['Industria'] == 'Telecommunications services'] = 'Telecommunications Services'"
      ],
      "metadata": {
        "id": "jYX7lCL9UEyP"
      },
      "execution_count": null,
      "outputs": []
    },
    {
      "cell_type": "code",
      "execution_count": null,
      "metadata": {
        "id": "7Vn-cPazFKiP"
      },
      "outputs": [],
      "source": [
        "# Iniciamos el análisis exploratorio del dataset para buscar datos nulos, faltantes e incongruentes\n",
        "display(df_forbes_2015_2022.info(), df_forbes_2015_2022.describe().round(2))"
      ]
    },
    {
      "cell_type": "code",
      "source": [
        "#Se observan irregularidades en la relación de ganancias respecto a los ingresos, lo cual se refleja en el margen de rentabilidad\n",
        "\n",
        "df_forbes_2015_2022.loc[df_forbes_2015_2022['Ganancias'] >= df_forbes_2015_2022['Ingresos']]"
      ],
      "metadata": {
        "id": "el_r3k4AtpyU"
      },
      "execution_count": null,
      "outputs": []
    },
    {
      "cell_type": "code",
      "source": [
        "# Eliminamos todos los registros con ingresos menores a las ganancias\n",
        "\n",
        "indices_a_eliminar = df_forbes_2015_2022.loc[df_forbes_2015_2022['Ganancias'] >= df_forbes_2015_2022['Ingresos']].index\n",
        "\n",
        "df_forbes_2015_2022.drop(index=indices_a_eliminar, inplace=True)"
      ],
      "metadata": {
        "id": "-Lv876Hy89JD"
      },
      "execution_count": null,
      "outputs": []
    },
    {
      "cell_type": "code",
      "execution_count": null,
      "metadata": {
        "id": "yH-MX8TRt9o1"
      },
      "outputs": [],
      "source": [
        "df_forbes_2015_2022.describe().round(2)"
      ]
    },
    {
      "cell_type": "code",
      "execution_count": null,
      "metadata": {
        "id": "b4nGEkK7HPDd"
      },
      "outputs": [],
      "source": []
    },
    {
      "cell_type": "code",
      "execution_count": null,
      "metadata": {
        "id": "IACpAbxOlnZh"
      },
      "outputs": [],
      "source": [
        "# Unificamos el dataframe con los datos de continentes y paises\n",
        "\n",
        "df_forbes_2015_2022 = pd.merge(df_forbes_2015_2022, df_paises_continentes, 'left', on='Pais')"
      ]
    },
    {
      "cell_type": "code",
      "execution_count": null,
      "metadata": {
        "id": "mXATqv6cwyBt"
      },
      "outputs": [],
      "source": [
        "df_forbes_2015_2022.info()"
      ]
    },
    {
      "cell_type": "code",
      "execution_count": null,
      "metadata": {
        "id": "CU2F-AVdwx7l"
      },
      "outputs": [],
      "source": [
        "#observamos que paises tienen valores nulos en las columnas codigo o continente\n",
        "\n",
        "display(df_forbes_2015_2022['Pais'].loc[df_forbes_2015_2022['Codigo'].isna()].unique())\n",
        "display(df_forbes_2015_2022['Pais'].loc[df_forbes_2015_2022['Continente'].isna()].unique())"
      ]
    },
    {
      "cell_type": "code",
      "execution_count": null,
      "metadata": {
        "id": "31kR5WTKwx1f"
      },
      "outputs": [],
      "source": [
        "# Observamos una empresa y un país que no podemos identificar\n",
        "display(df_forbes_2015_2022.loc[df_forbes_2015_2022['Pais'] == 5855])"
      ]
    },
    {
      "cell_type": "code",
      "execution_count": null,
      "metadata": {
        "id": "iss-3iWNwxvG"
      },
      "outputs": [],
      "source": [
        "# Eliminamos los regisros incongruentes y llenamos los datos nulos para el país South Korea\n",
        "\n",
        "df_forbes_2015_2022.loc[df_forbes_2015_2022['Pais'] == 'South Korea', 'Continente'] = 'Asia'\n",
        "df_forbes_2015_2022.loc[df_forbes_2015_2022['Pais'] == 'South Korea', 'Codigo'] = 'KR'\n",
        "indices_a_eliminar = df_forbes_2015_2022.loc[df_forbes_2015_2022['Pais'] == 5855].index\n",
        "\n",
        "df_forbes_2015_2022.drop(index=indices_a_eliminar, inplace=True)"
      ]
    },
    {
      "cell_type": "code",
      "execution_count": null,
      "metadata": {
        "id": "wY1u0Wj5wxn6"
      },
      "outputs": [],
      "source": [
        "df_forbes_2015_2022.info()"
      ]
    },
    {
      "cell_type": "code",
      "execution_count": null,
      "metadata": {
        "id": "S2ELSiyAwxRQ"
      },
      "outputs": [],
      "source": [
        "# Ahora, habiendo resuelto el problema de datos incongruentes en los ingresos y ganancias,\n",
        "# podemos llenar los valores nulos con el método más adecuado, en este caso llenamos los valores\n",
        "# con el promedio de la columna de su respectiva empresa, para ello hacemos una\n",
        "# agrupación por empresas en la columna de interes y usamos el método transform\n",
        "# para que la serie resultante tenga las mismas dimensiones de la columna\n",
        "\n",
        "df_forbes_2015_2022['Ingresos'] = df_forbes_2015_2022.groupby(['Empresa'])['Ingresos'].transform(lambda x: x.fillna(x.mean()))\n",
        "df_forbes_2015_2022['Ganancias'] = df_forbes_2015_2022.groupby(['Empresa'])['Ganancias'].transform(lambda x: x.fillna(x.mean()))\n",
        "df_forbes_2015_2022['Activos'] = df_forbes_2015_2022.groupby(['Empresa'])['Activos'].transform(lambda x: x.fillna(x.mean()))\n",
        "df_forbes_2015_2022['Valor_de_mercado'] = df_forbes_2015_2022.groupby(['Empresa'])['Valor_de_mercado'].transform(lambda x: x.fillna(x.mean()))\n",
        "\n",
        "#Si quedan datos nulos de una empresa, quiere decir que todos los datos de la columna en dicha empresa son nulos\n",
        "\n",
        "#Llenamos los datos nulos en el margen de rentabilidad y el ROA\n",
        "\n",
        "df_forbes_2015_2022.loc[df_forbes_2015_2022['Margen_de_rentabilidad (%)'].isnull(),\n",
        "                               'Margen_de_rentabilidad (%)'] = df_forbes_2015_2022['Ganancias'] / df_forbes_2015_2022['Ingresos']\n",
        "\n",
        "df_forbes_2015_2022.loc[df_forbes_2015_2022['ROA (%)'].isnull(),\n",
        "                               'ROA (%)'] = df_forbes_2015_2022['Ganancias'] / df_forbes_2015_2022['Activos']"
      ]
    },
    {
      "cell_type": "code",
      "execution_count": null,
      "metadata": {
        "id": "Y258X1xWwxiD"
      },
      "outputs": [],
      "source": [
        "#hacemos una lista con los indices de los registros que aun puedan contener valores nulos y los eliminamos\n",
        "\n",
        "indices_a_eliminar = df_forbes_2015_2022.loc[(df_forbes_2015_2022['Ingresos'].isnull()) |\n",
        "                                             (df_forbes_2015_2022['Ganancias'].isnull()) |\n",
        "                                             (df_forbes_2015_2022['Activos'].isnull()) |\n",
        "                                             (df_forbes_2015_2022['Valor_de_mercado'].isnull())].index\n",
        "\n",
        "df_forbes_2015_2022.drop(index=indices_a_eliminar, inplace=True)"
      ]
    },
    {
      "cell_type": "code",
      "execution_count": null,
      "metadata": {
        "id": "-aLFmaZ1ka9x"
      },
      "outputs": [],
      "source": [
        "df_forbes_2015_2022.info()"
      ]
    },
    {
      "cell_type": "code",
      "source": [
        "#Exportamos el dataframe\n",
        "df_forbes_2015_2022.to_csv('forbes_2015_2022.csv', index=False)"
      ],
      "metadata": {
        "id": "JlHdOay-ikf-"
      },
      "execution_count": null,
      "outputs": []
    },
    {
      "cell_type": "code",
      "source": [
        "# ya tratado el dataframe, creamos el dataframe en el periodo solicitado para el cuestionario A\n",
        "df_forbes_2022 = df_forbes_2015_2022.loc[df_forbes_2015_2022['Ano'] == 2022]"
      ],
      "metadata": {
        "id": "0URFHw8RJ6A1"
      },
      "execution_count": null,
      "outputs": []
    },
    {
      "cell_type": "code",
      "source": [
        "df_forbes_2022['Industria'].unique()"
      ],
      "metadata": {
        "id": "LCfFc7K1X6dd"
      },
      "execution_count": null,
      "outputs": []
    },
    {
      "cell_type": "code",
      "source": [
        "display(df_forbes_2022.info(), df_forbes_2022.describe().round(2))"
      ],
      "metadata": {
        "id": "d36rRYxHJ56A"
      },
      "execution_count": null,
      "outputs": []
    },
    {
      "cell_type": "code",
      "source": [
        "df_forbes_2022.to_csv('forbes_2022.csv', index=False)"
      ],
      "metadata": {
        "id": "qBSpdvtiYK1b"
      },
      "execution_count": null,
      "outputs": []
    },
    {
      "cell_type": "markdown",
      "source": [
        "#Cuestionario A\n",
        "\n",
        "Las siguientes preguntas se refieren al ranking Forbes 2000 del año 2022:\n",
        "\n",
        "1. ¿Cuál es el Top 10 de países con más empresas en Forbes para el periodo\n",
        "indicado?\n",
        "\n",
        "2. ¿Cuál es el Top 4 de países con más empresas en el área de tecnología y de telecomunicaciones?\n",
        "\n",
        "3. ¿Cuál fue el margen de pérdida de las 5 empresas que presentaron mayores perjuicios considerando el total de pérdidas registradas en la Industria de los Hoteles, Restaurantes y entretenimiento?\n",
        "\n",
        "4. Considerando a la Industria Petrolera en Asia, ¿Cuál o cuáles empresas superaron en más del 20% su margen de rentabilidad?\n",
        "\n",
        "5. ¿Cuáles fueron las empresas norteamericanas con el mayor porcentaje de rentabilidad por industria?\n",
        "\n",
        "6. Excluyendo a la industria Bancaria, ¿Cuáles fueron las empresas europeas con  mayores pérdidas registradas por industria a nivel global?\n",
        "\n",
        "7. ¿Cuál fue la distribución de Ingresos y Activos con respecto a las ganancias de los bancos cuyos activos no superan los 30000 millones de dólares?\n",
        "\n",
        "8. Considerando el histórico de valores de las acciones en el año 2022 de las 5 empresas de tu elección (Paso 2), Indica ¿Cuál fue la mejor semana para comprar y cuál para vender respectivamente? (Se compra cuando el precio es bajo, y se vende cuando el precio es alto)"
      ],
      "metadata": {
        "id": "kFi9FYvZOINr"
      }
    },
    {
      "cell_type": "markdown",
      "source": [
        "###¿Cuál es el Top 10 de países con más empresas en Forbes para el periodo indicado?"
      ],
      "metadata": {
        "id": "9e_yFx2xlWZs"
      }
    },
    {
      "cell_type": "code",
      "source": [
        "top_paises_con_mas_empresas = df_forbes_2022.groupby(['Pais','Codigo'])['Empresa'].count().sort_values(ascending=False).head(10).reset_index()\n",
        "display(top_paises_con_mas_empresas)\n"
      ],
      "metadata": {
        "id": "OVDqeQ2VVyom"
      },
      "execution_count": null,
      "outputs": []
    },
    {
      "cell_type": "markdown",
      "source": [
        "###¿Cuál es el Top 4 de países con más empresas en el área de tecnología y de telecomunicaciones?"
      ],
      "metadata": {
        "id": "yc-CwpSIYmHl"
      }
    },
    {
      "cell_type": "code",
      "source": [
        "top_paises_empresas_tech = df_forbes_2022.loc[(df_forbes_2022['Industria'] == 'Telecommunications Services') |\n",
        "                                               (df_forbes_2022['Industria'] == 'Technology Hardware & Equipment')].groupby(['Pais','Codigo'])[('Empresa')].count().sort_values(ascending=False).head(4).reset_index()\n",
        "display(top_paises_empresas_tech)\n"
      ],
      "metadata": {
        "id": "bD6izCl_Waug"
      },
      "execution_count": null,
      "outputs": []
    },
    {
      "cell_type": "markdown",
      "source": [
        "###¿Cuál fue el margen de pérdida de las 5 empresas que presentaron mayores perjuicios considerando el total de pérdidas registradas en la Industria de los Hoteles, Restaurantes y entretenimiento?"
      ],
      "metadata": {
        "id": "PRc3VTbTdPVm"
      }
    },
    {
      "cell_type": "code",
      "source": [
        "top_empresas_margen_perdida = df_forbes_2022.loc[df_forbes_2022['Industria'] == 'Hotels, Restaurants & Leisure' ].groupby(['Empresa'])['Margen_de_rentabilidad (%)'].mean().sort_values().head(5).reset_index()\n",
        "\n",
        "display(top_empresas_margen_perdida)"
      ],
      "metadata": {
        "id": "xJjYVG21WapF"
      },
      "execution_count": null,
      "outputs": []
    },
    {
      "cell_type": "markdown",
      "source": [
        "###Considerando a la Industria Petrolera en Asia, ¿Cuál o cuáles empresas superaron en más del 20% su margen de rentabilidad?"
      ],
      "metadata": {
        "id": "PQqyBxHpiiNj"
      }
    },
    {
      "cell_type": "code",
      "source": [
        "margen_rentabilidad_Asia = df_forbes_2022.loc[(df_forbes_2022['Industria'] == 'Oil & Gas Operations') &\n",
        "                                                 (df_forbes_2022['Continente'] == 'Asia')].groupby(['Empresa'])['Margen_de_rentabilidad (%)'].mean().sort_values(ascending=False).head(7).reset_index()\n",
        "\n",
        "display(margen_rentabilidad_Asia )"
      ],
      "metadata": {
        "id": "P576IsJhWajl"
      },
      "execution_count": null,
      "outputs": []
    },
    {
      "cell_type": "markdown",
      "source": [
        "###¿Cuáles fueron las empresas norteamericanas con el mayor porcentaje de rentabilidad por industria?"
      ],
      "metadata": {
        "id": "STLS0s08hESq"
      }
    },
    {
      "cell_type": "code",
      "source": [
        "empresas_NA_top_rentabilidad = df_forbes_2022.loc[(df_forbes_2022['Continente'] == 'North America')].groupby(['Industria'])[['Empresa','Margen_de_rentabilidad (%)']].max().sort_values(ascending=False, by='Margen_de_rentabilidad (%)').reset_index()\n",
        "\n",
        "display(empresas_NA_top_rentabilidad)"
      ],
      "metadata": {
        "id": "D2D9v8ybWad9"
      },
      "execution_count": null,
      "outputs": []
    },
    {
      "cell_type": "markdown",
      "source": [
        "###Excluyendo a la industria Bancaria, ¿Cuáles fueron las empresas europeas con mayores pérdidas registradas por industria a nivel global?"
      ],
      "metadata": {
        "id": "7D21h6VjmnkQ"
      }
    },
    {
      "cell_type": "code",
      "source": [
        "empresas_EU_top_perdidas = df_forbes_2022.loc[(df_forbes_2022['Continente'] == 'Europe') &\n",
        "                                              (df_forbes_2022['Industria'] != 'Banking')].groupby('Industria')[['Empresa','Ganancias']].min().sort_values(by='Ganancias').reset_index()\n",
        "display(empresas_EU_top_perdidas)"
      ],
      "metadata": {
        "id": "IJtt8Of8WaVl"
      },
      "execution_count": null,
      "outputs": []
    },
    {
      "cell_type": "markdown",
      "source": [
        "###¿Cuál fue la distribución de Ingresos y Activos con respecto a las ganancias de los bancos cuyos activos no superan los 300000 millones de dólares?"
      ],
      "metadata": {
        "id": "hcKIqEQoo3Eu"
      }
    },
    {
      "cell_type": "code",
      "source": [
        "bancos_dist_activos_ingresos = df_forbes_2022.loc[(df_forbes_2022['Industria'] == 'Banking') &\n",
        "                                                  (df_forbes_2022['Activos'] <= 300000), ['Ingresos','Activos','Ganancias']]\n",
        "\n",
        "display(bancos_dist_activos_ingresos)"
      ],
      "metadata": {
        "id": "XvT7UtRTWaOd"
      },
      "execution_count": null,
      "outputs": []
    },
    {
      "cell_type": "markdown",
      "source": [
        "###Considerando el histórico de valores de las acciones en el año 2022 de las 5 empresas de tu elección (Paso 2), Indica ¿Cuál fue la mejor semana para comprar y cuál para vender respectivamente? (Se compra cuando el precio es bajo, y se vende cuando el precio es alto)"
      ],
      "metadata": {
        "id": "WJ0qzfwl0FCb"
      }
    },
    {
      "cell_type": "code",
      "source": [
        "df_polygon.head()"
      ],
      "metadata": {
        "id": "HqQ-nc8u0Eqg"
      },
      "execution_count": null,
      "outputs": []
    },
    {
      "cell_type": "code",
      "source": [
        "df_polygon['Semana'] = df_polygon['Fecha'].dt.isocalendar().week\n",
        "\n",
        "df_polygon_semanal = df_polygon.groupby(['Symbol', 'Semana']).agg(\n",
        "    Fecha=('Fecha', 'first'),\n",
        "    Precio_Apertura_Promedio=('Precio_Apertura', 'mean'),\n",
        "    Precio_Cierre_Promedio=('Precio_Cierre', 'mean'),\n",
        "    Precio_Maximo_Semanal=('Precio_Maximo', 'max'),\n",
        "    Precio_Minimo_Semanal=('Precio_Minimo', 'min')\n",
        ").reset_index()\n",
        "\n",
        "df_polygon_semanal.to_csv('polygon_semanal.csv', index=False)\n",
        "\n",
        "display(df_polygon_semanal.head())"
      ],
      "metadata": {
        "id": "gmxa_0X-0Ek0"
      },
      "execution_count": null,
      "outputs": []
    },
    {
      "cell_type": "code",
      "source": [
        "mejor_semana_compra = df_polygon_semanal.loc[df_polygon_semanal.groupby('Symbol')['Precio_Cierre_Promedio'].idxmin()]\n",
        "\n",
        "display(mejor_semana_compra)"
      ],
      "metadata": {
        "id": "DOuRa9170EgR"
      },
      "execution_count": null,
      "outputs": []
    },
    {
      "cell_type": "code",
      "source": [
        "mejor_semana_venta = df_polygon_semanal.loc[df_polygon_semanal.groupby('Symbol')['Precio_Cierre_Promedio'].idxmax()]\n",
        "\n",
        "display(mejor_semana_venta)"
      ],
      "metadata": {
        "id": "AjMe8Z6t0ETE"
      },
      "execution_count": null,
      "outputs": []
    },
    {
      "cell_type": "markdown",
      "source": [
        "#Cuestionario B\n",
        "Las siguientes preguntas se refieren al ranking Forbes 2000 considerando el periodo 2015 - 2022:\n",
        "\n",
        "1. ¿Cuál es el Top 10 de países con más empresas en Forbes para el periodo indicado?\n",
        "\n",
        "2. ¿Cuál es el Top 5 de países con más empresas en el área de tecnología y de telecomunicaciones?\n",
        "\n",
        "3. ¿Cuál fue el margen de pérdida de las 10 empresas que presentaron mayores perjuicios considerando el total de pérdidas registradas en la Industria de los Hoteles, Restaurantes y entretenimiento?\n",
        "\n",
        "4. Considerando a la Industria Petrolera en las Américas, ¿Cuál o cuáles empresas superaron en más del 20% la rentabilidad de sus activos?\n",
        "\n",
        "5. ¿Cuáles fueron las empresas europeas con el mayor porcentaje de rentabilidad por industria?\n",
        "\n",
        "6. ¿Cuáles fueron las 10 empresas norteamericanas con  mayores pérdidas registradas por industria a nivel global?\n",
        "\n",
        "7. ¿Cuál fue la distribución de Ingresos y Activos con respecto a las ganancias de los bancos cuyos activos no superan los 15000 millones de dólares?\n",
        "\n",
        "8. ¿Cuáles fueron las ganancias anuales de las principales empresas en la Industria automotriz?"
      ],
      "metadata": {
        "id": "I5Ss0_L80mN0"
      }
    },
    {
      "cell_type": "markdown",
      "source": [
        "###¿Cuál es el Top 10 de países con más empresas en Forbes para el periodo indicado?"
      ],
      "metadata": {
        "id": "ks1r09pf0wQD"
      }
    },
    {
      "cell_type": "code",
      "source": [
        "top_paises_empresas_15_22 = df_forbes_2015_2022.groupby(['Pais','Codigo'])['Empresa'].count().sort_values(ascending=False).head(10).reset_index()\n",
        "display(top_paises_empresas_15_22)"
      ],
      "metadata": {
        "id": "NPgkdsnN01fu"
      },
      "execution_count": null,
      "outputs": []
    },
    {
      "cell_type": "markdown",
      "source": [
        "###¿Cuál es el Top 5 de países con más empresas en el área de tecnología y de telecomunicaciones?"
      ],
      "metadata": {
        "id": "FoTzQ05aDOUZ"
      }
    },
    {
      "cell_type": "code",
      "source": [
        "top_paises_empresas_tech_15_22 = df_forbes_2015_2022.loc[(df_forbes_2015_2022['Industria'] == 'Telecommunications Services') |\n",
        "                                                         (df_forbes_2015_2022['Industria'] == 'Technology Hardware & Equipment')].groupby(['Pais','Codigo'])['Empresa'].count().sort_values(ascending=False).head(5).reset_index()\n",
        "display(top_paises_empresas_tech_15_22)"
      ],
      "metadata": {
        "id": "lQqjJ7f201Zo"
      },
      "execution_count": null,
      "outputs": []
    },
    {
      "cell_type": "markdown",
      "source": [
        "###¿Cuál fue el margen de pérdida de las 10 empresas que presentaron mayores perjuicios considerando el total de pérdidas registradas en la Industria de los Hoteles, Restaurantes y entretenimiento?"
      ],
      "metadata": {
        "id": "evHb--Zs0Smf"
      }
    },
    {
      "cell_type": "code",
      "source": [
        "top_perdidas_empresas_HRE = df_forbes_2015_2022.loc[df_forbes_2015_2022['Industria'] == 'Hotels, Restaurants & Leisure'].groupby(['Empresa'])['Ganancias'].sum().sort_values().head(10).reset_index()\n",
        "\n",
        "display(top_perdidas_empresas_HRE)"
      ],
      "metadata": {
        "id": "M5ccNO-901TJ"
      },
      "execution_count": null,
      "outputs": []
    },
    {
      "cell_type": "markdown",
      "source": [
        "###Considerando a la Industria Petrolera en las Américas, ¿Cuál o cuáles empresas superaron en más del 20% la rentabilidad de sus activos?"
      ],
      "metadata": {
        "id": "otUUi8qO_JtU"
      }
    },
    {
      "cell_type": "code",
      "source": [
        "top_empresas_ROA = df_forbes_2015_2022.loc[((df_forbes_2015_2022['Continente'] == 'North America') |\n",
        "                                                            (df_forbes_2015_2022['Continente'] == 'South America')) &\n",
        "                                                            ((df_forbes_2015_2022['Industria'] == 'Oil & Gas Operations'))].groupby(['Empresa'])['ROA (%)'].mean().round(2).sort_values(ascending=False).reset_index()\n",
        "\n",
        "top_empresas_ROA = top_empresas_ROA.loc[top_empresas_ROA['ROA (%)'] >= 20]\n",
        "\n",
        "display(top_empresas_ROA)"
      ],
      "metadata": {
        "id": "fxXyeH1e01NA"
      },
      "execution_count": null,
      "outputs": []
    },
    {
      "cell_type": "markdown",
      "source": [
        "###¿Cuáles fueron las empresas europeas con el mayor porcentaje de rentabilidad por industria?"
      ],
      "metadata": {
        "id": "rCRBjCrvCG46"
      }
    },
    {
      "cell_type": "code",
      "source": [
        "empresas_EU_top_rentabilidad = df_forbes_2015_2022.loc[df_forbes_2015_2022['Continente'] == 'Europe'].groupby('Industria')[['Empresa','Margen_de_rentabilidad (%)']].max().sort_values(by='Margen_de_rentabilidad (%)',ascending=False).reset_index()\n",
        "\n",
        "display(empresas_EU_top_rentabilidad)"
      ],
      "metadata": {
        "id": "2iY83jhw01HJ"
      },
      "execution_count": null,
      "outputs": []
    },
    {
      "cell_type": "markdown",
      "source": [
        "###¿Cuáles fueron las 10 empresas norteamericanas con mayores pérdidas registradas por industria a nivel global?"
      ],
      "metadata": {
        "id": "KLNWiAwoDfcs"
      }
    },
    {
      "cell_type": "code",
      "source": [
        "empresas_NA_top_perdidas = df_forbes_2015_2022.loc[df_forbes_2015_2022['Continente'] == 'North America'].groupby('Industria')[['Empresa','Ganancias']].min().sort_values(by='Ganancias').head(10).reset_index()\n",
        "\n",
        "display(empresas_NA_top_perdidas)"
      ],
      "metadata": {
        "id": "aQtXhJQ501AI"
      },
      "execution_count": null,
      "outputs": []
    },
    {
      "cell_type": "markdown",
      "source": [
        "###¿Cuál fue la distribución de Ingresos y Activos con respecto a las ganancias de los bancos cuyos activos no superan los 15000 millones de dólares?"
      ],
      "metadata": {
        "id": "ARgEce4XHmFm"
      }
    },
    {
      "cell_type": "code",
      "source": [
        "bancos_dist_activos_ingresos_15_22 = df_forbes_2015_2022.loc[(df_forbes_2015_2022['Industria'] == 'Banking') &\n",
        "                                                  (df_forbes_2015_2022['Activos'] <= 150000), ['Ingresos','Activos','Ganancias']].reset_index(drop=True)\n",
        "\n",
        "display(bancos_dist_activos_ingresos_15_22)"
      ],
      "metadata": {
        "id": "1mMvSFW5HonE"
      },
      "execution_count": null,
      "outputs": []
    },
    {
      "cell_type": "markdown",
      "source": [
        "###¿Cuáles fueron las ganancias anuales de las principales empresas en la Industria automotriz?"
      ],
      "metadata": {
        "id": "NvpIStkpIB-3"
      }
    },
    {
      "cell_type": "code",
      "source": [
        "ganancias_anuales_empresas_automotriz = df_forbes_2015_2022.loc[df_forbes_2015_2022['Industria'] == 'Transportation'].groupby(['Ano','Empresa'])['Ganancias'].sum().reset_index()\n",
        "\n",
        "display(ganancias_anuales_empresas_automotriz)"
      ],
      "metadata": {
        "id": "Va7XSfbNHofz"
      },
      "execution_count": null,
      "outputs": []
    },
    {
      "cell_type": "markdown",
      "source": [
        "##Parte 3"
      ],
      "metadata": {
        "id": "MgpPBYU5WXZP"
      }
    },
    {
      "cell_type": "code",
      "source": [
        "df_fortune_global = pd.concat([df for df in datos_fortune])\n",
        "\n",
        "display(df_fortune_global.info(), df_fortune_global.head())"
      ],
      "metadata": {
        "id": "lC4qxKFTHoZV"
      },
      "execution_count": null,
      "outputs": []
    },
    {
      "cell_type": "code",
      "source": [
        "df_forbes_empleados = pd.merge(df_forbes_2015_2022, df_fortune_global, how='inner', on=['Ano','Empresa'])\n",
        "\n",
        "display(df_forbes_empleados.info(), df_forbes_empleados.head())"
      ],
      "metadata": {
        "id": "pnyuL1k5HoQ4"
      },
      "execution_count": null,
      "outputs": []
    },
    {
      "cell_type": "code",
      "source": [
        "df_forbes_empleados.to_csv('forbes_empleados.csv', index=False)"
      ],
      "metadata": {
        "id": "64LqROjJqZIY"
      },
      "execution_count": null,
      "outputs": []
    },
    {
      "cell_type": "markdown",
      "source": [
        "# Visualización de datos"
      ],
      "metadata": {
        "id": "i1X-BxZUonap"
      }
    },
    {
      "cell_type": "markdown",
      "source": [
        "##Graficos cuestionario A"
      ],
      "metadata": {
        "id": "W6j3nuOwkq52"
      }
    },
    {
      "cell_type": "code",
      "source": [
        "top_paises_con_mas_empresas.head()"
      ],
      "metadata": {
        "id": "McStJwKOqfC2"
      },
      "execution_count": null,
      "outputs": []
    },
    {
      "cell_type": "code",
      "source": [
        "plt.figure(figsize=(15, 8))\n",
        "\n",
        "ax = sns.barplot(x='Pais', y='Empresa',data=top_paises_con_mas_empresas,\n",
        "                 hue='Pais', palette='inferno', legend=False)\n",
        "plt.suptitle('Paises con mayor número de empresas Forbes Global', fontsize=18)\n",
        "plt.title('Top 10 de países con más empresas', fontsize=16)\n",
        "plt.xlabel('País', fontsize=14)\n",
        "plt.xticks(fontsize=12, rotation=45)\n",
        "plt.ylabel('Número de Empresas', fontsize=14)\n",
        "ax.set_yticklabels([])\n",
        "sns.despine(left=True,bottom=True)\n",
        "ax.tick_params(left=False, bottom=False)\n",
        "\n",
        "for i,j in enumerate(top_paises_con_mas_empresas['Empresa']):\n",
        "    ax.text(i,j+10,str(j),color='black',fontsize=12,ha='center',va='center')\n",
        "\n",
        "\n",
        "plt.show()"
      ],
      "metadata": {
        "id": "WakYhNWSHnuy"
      },
      "execution_count": null,
      "outputs": []
    },
    {
      "cell_type": "markdown",
      "metadata": {
        "id": "4b2ab092"
      },
      "source": [
        "**Informe del Gráfico: Paises con mayor número de empresas Forbes Global (2022)**\n",
        "\n",
        "Este gráfico de barras muestra el Top 10 de países con la mayor cantidad de empresas incluidas en el ranking Forbes Global del año 2022. Se observa que Estados Unidos lidera la lista con una cantidad significativamente mayor de empresas, seguido por China y Japón. Este gráfico resalta la concentración de grandes corporaciones a nivel global en estos países."
      ]
    },
    {
      "cell_type": "code",
      "metadata": {
        "id": "2a89c07d"
      },
      "source": [
        "top_paises_empresas_tech"
      ],
      "execution_count": null,
      "outputs": []
    },
    {
      "cell_type": "code",
      "source": [
        "plt.figure(figsize=(15, 8))\n",
        "\n",
        "ax = sns.barplot(x='Pais', y='Empresa', hue='Pais', data=top_paises_empresas_tech,\n",
        "                 palette='inferno', legend=False)\n",
        "plt.suptitle('Paises con mayor número de empresas en la industria\\n tecnológica y telecomunicaciones en el año 2022',\n",
        "             fontsize=18, y=1.01)\n",
        "plt.title('Top 4 de países con más empresas Tech', fontsize=16)\n",
        "plt.xlabel('País', fontsize=14)\n",
        "plt.xticks(fontsize=12)\n",
        "plt.ylabel('Cantidad de Empresas', fontsize=14)\n",
        "for i,j in enumerate(top_paises_empresas_tech['Empresa']):\n",
        "    ax.text(i,j+.5,str(j),color='black',fontsize=12,ha='center',va='center')\n",
        "\n",
        "ax.set_yticklabels([])\n",
        "sns.despine(left=True,bottom=True)\n",
        "ax.tick_params(left=False, bottom=False)\n",
        "\n",
        "\n",
        "plt.show()"
      ],
      "metadata": {
        "id": "e3i5NLZNNSyq"
      },
      "execution_count": null,
      "outputs": []
    },
    {
      "cell_type": "markdown",
      "metadata": {
        "id": "8d6241e0"
      },
      "source": [
        "**Informe del Gráfico: Paises con mayor número de empresas en la industria tecnológica y telecomunicaciones (2022)**\n",
        "\n",
        "Este gráfico de barras presenta el Top 4 de países con la mayor cantidad de empresas en las áreas de tecnología y telecomunicaciones según el ranking Forbes Global 2022. Similar al ranking general, Estados Unidos y China ocupan los primeros lugares, lo que indica su dominio en estas industrias estratégicas. Japón y Taiwan también figuran en este top, mostrando su relevancia en el sector tecnológico."
      ]
    },
    {
      "cell_type": "code",
      "source": [
        "top_empresas_margen_perdida"
      ],
      "metadata": {
        "id": "NrnaefyQyFT3"
      },
      "execution_count": null,
      "outputs": []
    },
    {
      "cell_type": "code",
      "source": [
        "plt.figure(figsize=(15, 8))\n",
        "\n",
        "ax = sns.barplot(x='Empresa', y='Margen_de_rentabilidad (%)', hue='Empresa',\n",
        "                 data=top_empresas_margen_perdida, palette='Reds_r', legend=False)\n",
        "plt.suptitle('Grafico del top paises con el mayor margen de perdida\\n en la Industria de los Hoteles, Restaurantes y entretenimiento?',\n",
        "             fontsize=18, y=1.02)\n",
        "plt.title('Top 5 de países con mayor margen de perdida', fontsize=16)\n",
        "plt.xlabel('Empresa', fontsize=14)\n",
        "plt.xticks(fontsize=12)\n",
        "plt.ylabel('Margen de Rentabilidad (%)', fontsize=14)\n",
        "plt.ylim(-300,50)\n",
        "ax.set_yticklabels([])\n",
        "sns.despine(left=True,bottom=True)\n",
        "plt.axhline(0, color='grey', linewidth=0.8)\n",
        "for i,j in enumerate(top_empresas_margen_perdida['Margen_de_rentabilidad (%)']):\n",
        "    ax.text(i,j-8 if j < 0 else j + 8,str(j) + '%',color='black',fontsize=12,ha='center',va='center')\n",
        "\n",
        "ax.tick_params(left=False, bottom=False)\n",
        "\n",
        "\n",
        "plt.show()"
      ],
      "metadata": {
        "id": "nsLbZM2FyFNp"
      },
      "execution_count": null,
      "outputs": []
    },
    {
      "cell_type": "markdown",
      "metadata": {
        "id": "f8941ce6"
      },
      "source": [
        "**Informe del Gráfico: Margen de Rentabilidad de las Empresas en la Industria de Hoteles, Restaurantes y Entretenimiento (2022)**\n",
        "\n",
        "Este gráfico de barras muestra el margen de rentabilidad de las 5 empresas con mayores pérdidas en la industria de Hoteles, Restaurantes y Entretenimiento en el ranking Forbes Global 2022. Se observa que Carnival Corporation presentó el mayor margen de pérdida, seguido por Las Vegas Sands y Caesars Entertainment. Esto refleja el impacto negativo que enfrentaron estas empresas en el año 2022."
      ]
    },
    {
      "cell_type": "code",
      "source": [
        "margen_rentabilidad_Asia"
      ],
      "metadata": {
        "id": "iDpWqYL8yFG1"
      },
      "execution_count": null,
      "outputs": []
    },
    {
      "cell_type": "code",
      "source": [
        "margen_rentabilidad_Asia.loc[margen_rentabilidad_Asia['Empresa'] == 'Saudi Arabian Oil Company (Saudi Aramco)', 'Empresa'] = 'Saudi Aramco'\n",
        "display(margen_rentabilidad_Asia['Empresa'])"
      ],
      "metadata": {
        "id": "MNBTB3iUIufZ"
      },
      "execution_count": null,
      "outputs": []
    },
    {
      "cell_type": "code",
      "source": [
        "plt.figure(figsize=(15, 8))\n",
        "\n",
        "ax = sns.barplot(x='Empresa', y='Margen_de_rentabilidad (%)', hue='Empresa',\n",
        "                 data=margen_rentabilidad_Asia, palette='inferno', legend=False)\n",
        "\n",
        "plt.suptitle('Margen de Rentabilidad de la Industria Petrolera en Asia', fontsize=18)\n",
        "plt.title('Empresas que superaron más del 20% su margen de rentabilidad', fontsize=16)\n",
        "plt.xlabel('Empresa', fontsize=14)\n",
        "plt.xticks(fontsize=12)\n",
        "plt.ylabel('Margen de Rentabilidad (%)', fontsize=14)\n",
        "plt.ylim(0,50)\n",
        "ax.set_yticklabels([])\n",
        "sns.despine(left=True,bottom=True)\n",
        "\n",
        "for i,j in enumerate(margen_rentabilidad_Asia['Margen_de_rentabilidad (%)']):\n",
        "    ax.text(i,j+1,str(j) + '%',color='black',fontsize=12,ha='center',va='center')\n",
        "\n",
        "ax.tick_params(left=False, bottom=False)\n",
        "\n",
        "\n",
        "plt.show()"
      ],
      "metadata": {
        "id": "XRcloPYaRxWt"
      },
      "execution_count": null,
      "outputs": []
    },
    {
      "cell_type": "markdown",
      "metadata": {
        "id": "73bee83a"
      },
      "source": [
        "**Informe del Gráfico: Margen de Rentabilidad de la Industria Petrolera en Asia (2022)**\n",
        "\n",
        "Este gráfico de barras presenta las empresas de la industria petrolera en Asia que superaron en más del 20% su margen de rentabilidad según el ranking Forbes Global 2022. Empresas como Novatek, Surgutneftegas y CNOOC destacan con altos márgenes de rentabilidad, lo que sugiere un año favorable para estas compañías en el sector petrolero asiático."
      ]
    },
    {
      "cell_type": "code",
      "source": [
        "plt.figure(figsize=(15, 8))\n",
        "\n",
        "# Define una paleta de colores personalizada\n",
        "colores_personalizados = [\n",
        "    '#1f77b4', '#ff7f0e', '#2ca02c', '#d62728', '#9467bd',\n",
        "    '#8c564b', '#e377c2', '#7f7f7f', '#bcbd22', '#17becf',\n",
        "    '#aec7e8', '#ffbb78', '#98df8a', '#ff9896', '#c5b0d5',\n",
        "    '#c49c94', '#f7b6d2', '#c7c7c7', '#dbdb8d', '#9edae5',\n",
        "    '#393b79', '#637939', '#8c6d31', '#843c39', '#7b4173',\n",
        "    '#a55194'\n",
        "]\n",
        "\n",
        "\n",
        "ax = sns.barplot(x='Margen_de_rentabilidad (%)', y='Empresa', hue='Industria',\n",
        "                 data=empresas_NA_top_rentabilidad, orient='h', palette=colores_personalizados)\n",
        "\n",
        "plt.suptitle('Margen de Rentabilidad de las Empresas por Industria en Norte America (2022)', fontsize=18)\n",
        "plt.title('Empresas con mayor margen de rentabilidad por industria', fontsize=16)\n",
        "plt.xlabel('Margen_de_rentabilidad (%)', fontsize=14)\n",
        "plt.ylabel('Empresa', fontsize=14)\n",
        "plt.yticks(fontsize=12)\n",
        "ax.set_xticklabels([])\n",
        "sns.despine(left=True,bottom=True)\n",
        "ax.legend(bbox_to_anchor=(1.2,-0.05), bbox_transform=ax.transAxes,\n",
        "          fontsize=10, loc='lower right', title='Industria')\n",
        "\n",
        "for i,j in enumerate(empresas_NA_top_rentabilidad['Margen_de_rentabilidad (%)']):\n",
        "    ax.text(j+3,i,str(j) + '%',color='black',fontsize=12,ha='center',va='center')\n",
        "\n",
        "ax.tick_params(left=False, bottom=False)\n",
        "\n",
        "\n",
        "plt.show()"
      ],
      "metadata": {
        "id": "a83hZZJqRxJz"
      },
      "execution_count": null,
      "outputs": []
    },
    {
      "cell_type": "markdown",
      "metadata": {
        "id": "fbb85dd6"
      },
      "source": [
        "**Informe del Gráfico: Margen de Rentabilidad de las Empresas por Industria en Norte América (2022)**\n",
        "\n",
        "Este gráfico de barras horizontal exhibe las empresas norteamericanas con el mayor porcentaje de rentabilidad por industria en el ranking Forbes Global 2022. Se puede observar la diversidad de industrias representadas y cómo empresas individuales dentro de cada sector lograron altos márgenes de rentabilidad en Norteamérica durante este año."
      ]
    },
    {
      "cell_type": "code",
      "source": [
        "empresas_EU_top_perdidas.head()"
      ],
      "metadata": {
        "id": "L-zFsOZQRxDo"
      },
      "execution_count": null,
      "outputs": []
    },
    {
      "cell_type": "code",
      "source": [
        "plt.figure(figsize=(15, 8))\n",
        "\n",
        "ax = sns.barplot(x='Ganancias', y='Empresa', hue='Industria',\n",
        "                 data=empresas_EU_top_perdidas.head(), palette='Reds_r', orient='h')\n",
        "\n",
        "plt.suptitle('Mayores perdidas generadas a nivel global por empresas europeas (2022)',\n",
        "             fontsize=18)\n",
        "plt.title('Empresas con mayores perdidas por industria (Excluyendo la bancaria)',\n",
        "          fontsize=16)\n",
        "plt.xlabel('Margen_de_rentabilidad (%)', fontsize=14)\n",
        "plt.ylabel('Empresa', fontsize=14)\n",
        "plt.yticks(fontsize=12)\n",
        "plt.xlim(-12000,0)\n",
        "ax.set_xticklabels([])\n",
        "sns.despine(left=True,bottom=True)\n",
        "\n",
        "ax.legend(bbox_to_anchor=(1.23,0.75), bbox_transform=ax.transAxes,\n",
        "          fontsize=10, loc='lower right', title='Industria')\n",
        "\n",
        "for i,j in enumerate(empresas_EU_top_perdidas['Ganancias'].head()):\n",
        "    ax.text(j-450, i, str(j) + '$', color='black',fontsize=11,ha='center',va='center')\n",
        "\n",
        "ax.tick_params(left=False, bottom=False)\n",
        "\n",
        "\n",
        "plt.show()"
      ],
      "metadata": {
        "id": "g3oF77LM0FBz"
      },
      "execution_count": null,
      "outputs": []
    },
    {
      "cell_type": "markdown",
      "metadata": {
        "id": "7a7be28c"
      },
      "source": [
        "**Informe del Gráfico: Mayores pérdidas generadas a nivel global por empresas europeas (2022)**\n",
        "\n",
        "Este gráfico de barras horizontal ilustra las empresas europeas (excluyendo la industria bancaria) que registraron las mayores pérdidas a nivel global en el ranking Forbes Global 2022. BT Group en telecomunicaciones y Aena en transporte se destacan con las mayores pérdidas, lo que indica desafíos significativos en estos sectores para las empresas europeas."
      ]
    },
    {
      "cell_type": "code",
      "source": [
        "bancos_dist_activos_ingresos"
      ],
      "metadata": {
        "id": "Rme02HUB0E5F"
      },
      "execution_count": null,
      "outputs": []
    },
    {
      "cell_type": "code",
      "source": [
        "fig, ax = plt.subplots(figsize=(15, 8))\n",
        "\n",
        "sns.scatterplot(x='Ingresos', y='Activos', data=bancos_dist_activos_ingresos, size='Ganancias',  sizes=(50, 250), palette='inferno_r', hue='Ganancias')\n",
        "\n",
        "plt.suptitle('Ingresos y Activos con respecto a las ganancias de los bancos (2022)', fontsize=18, y=1.02)\n",
        "plt.title('Distribución de Ingresos y Activos con respecto a las ganancias\\n cuyos activos no superan los 300000 millones de dólares', fontsize=16)\n",
        "plt.xlabel('Ganancias', fontsize=14)\n",
        "plt.ylabel('Activos', fontsize=14)\n",
        "plt.yticks(fontsize=12)\n",
        "plt.xticks(fontsize=12)\n",
        "\n",
        "ax.legend(bbox_to_anchor=(1.2,-0.05), bbox_transform=ax.transAxes,\n",
        "          fontsize=10, loc='lower right', title='Ganancias')\n",
        "\n",
        "ax.tick_params(left=False, bottom=False)\n",
        "\n",
        "\n",
        "plt.show()"
      ],
      "metadata": {
        "id": "rReYt53G0Ewa"
      },
      "execution_count": null,
      "outputs": []
    },
    {
      "cell_type": "markdown",
      "metadata": {
        "id": "dc2bdf6a"
      },
      "source": [
        "**Informe del Gráfico: Distribución de Ingresos y Activos con respecto a las ganancias de los bancos (2022)**\n",
        "\n",
        "Este gráfico de dispersión muestra la distribución de Ingresos y Activos en relación con las ganancias de los bancos con activos que no superan los 30,000 millones de dólares en el ranking Forbes Global 2022. El tamaño de los puntos representa los ingresos. Se puede observar la relación entre estas tres métricas para los bancos más pequeños."
      ]
    },
    {
      "cell_type": "code",
      "source": [
        "df_polygon.head()"
      ],
      "metadata": {
        "id": "Wg9p_nLzyE60"
      },
      "execution_count": null,
      "outputs": []
    },
    {
      "cell_type": "code",
      "source": [
        "df_polygon_semanal.head()"
      ],
      "metadata": {
        "id": "SkRtNLBsyE0V"
      },
      "execution_count": null,
      "outputs": []
    },
    {
      "cell_type": "code",
      "source": [
        "fig = px.line(df_polygon, x='Fecha', y='Precio_Cierre', color='Symbol',\n",
        "              title=f'Precio de cierre diario de las acciones<br>{df_polygon[\"Symbol\"].unique()}',\n",
        "              labels={'Precio_Cierre': 'Precio de Cierre'}, width=1500, height=500)\n",
        "\n",
        "fig.add_trace(go.Scatter(x=mejor_semana_venta['Fecha'], y=mejor_semana_venta['Precio_Cierre_Promedio'],\n",
        "                         mode='markers', name='Mejor semana venta', marker=dict(size = 7,color='blue'),\n",
        "                         hovertext=[f\"Simbolo: {row['Symbol']}<br>Fecha: {row['Fecha'].strftime('%d-%m-%Y')}<br>Semana: {row['Semana']}<br>Precio: {row['Precio_Cierre_Promedio']:.2f}$\"\n",
        "                                    for index, row in mejor_semana_venta.iterrows()],\n",
        "                         hoverinfo='text'))\n",
        "fig.add_trace(go.Scatter(x=mejor_semana_compra['Fecha'], y=mejor_semana_compra['Precio_Cierre_Promedio'],\n",
        "                         mode='markers', name='Mejor semana compra', marker=dict(size = 7,color='green'),\n",
        "                         hovertext=[f\"Simbolo: {row['Symbol']}<br>Fecha: {row['Fecha'].strftime('%d-%m-%Y')}<br>Semana: {row['Semana']}<br>Precio: {row['Precio_Cierre_Promedio']:.2f}$\"\n",
        "                                    for index, row in mejor_semana_compra.iterrows()],\n",
        "                         hoverinfo='text'))\n",
        "\n",
        "fig.show()"
      ],
      "metadata": {
        "id": "CtwYW86D_LHn"
      },
      "execution_count": null,
      "outputs": []
    },
    {
      "cell_type": "markdown",
      "metadata": {
        "id": "6e1b34fb"
      },
      "source": [
        "**Informe del Gráfico: Precio de cierre diario de las acciones (2024)**\n",
        "\n",
        "Este gráfico de líneas interactivo muestra el precio de cierre diario de las acciones de las cinco empresas seleccionadas (NTDOF, EA, KONMY, SQNXF, UBSFF) a lo largo del año 2024. Se han añadido marcadores para indicar la \"mejor semana para comprar\" (precio mínimo semanal) en verde y la \"mejor semana para vender\" (precio máximo semanal) en azul para cada empresa, según los datos históricos de valores."
      ]
    },
    {
      "cell_type": "markdown",
      "source": [
        "**Mejores Semanas para Comprar:**\n",
        "\n",
        "EA: Semana 16, Fecha 2024-04-15, Precio de Cierre Promedio: 126.56<br>\n",
        "KONMY: Semana 1, Fecha 2024-01-04, Precio de Cierre Promedio: 26.04<br>\n",
        "NTDOF: Semana 17, Fecha 2024-04-22, Precio de Cierre Promedio: 48.29<br>\n",
        "SQNXF: Semana 25, Fecha 2024-06-17, Precio de Cierre Promedio: 28.81<br>\n",
        "UBSFF: Semana 49, Fecha 2024-12-02, Precio de Cierre Promedio: 12.23\n",
        "\n",
        "**Mejores Semanas para Vender:**\n",
        "\n",
        "EA: Semana 49, Fecha 2024-12-02, Precio de Cierre Promedio: 166.74<br>\n",
        "KONMY: Semana 39, Fecha 2024-09-25, Precio de Cierre Promedio: 49.50<br>\n",
        "NTDOF: Semana 50, Fecha 2024-12-09, Precio de Cierre Promedio: 60.45<br>\n",
        "SQNXF: Semana 8, Fecha 2024-02-21, Precio de Cierre Promedio: 44.67<br>\n",
        "UBSFF: Semana 7, Fecha 2024-02-16, Precio de Cierre Promedio: 26.09"
      ],
      "metadata": {
        "id": "T2ELKBHj-wjW"
      }
    },
    {
      "cell_type": "markdown",
      "source": [
        "##Graficos cuestionario B"
      ],
      "metadata": {
        "id": "dX0562jakhcm"
      }
    },
    {
      "cell_type": "code",
      "source": [
        "top_paises_empresas_15_22"
      ],
      "metadata": {
        "id": "kCMoWf_77RtU"
      },
      "execution_count": null,
      "outputs": []
    },
    {
      "cell_type": "code",
      "source": [
        "plt.figure(figsize=(15, 8))\n",
        "\n",
        "ax = sns.barplot(x='Pais', y='Empresa', hue='Pais', data=top_paises_empresas_15_22,\n",
        "                 palette='inferno', legend=False)\n",
        "\n",
        "plt.suptitle('Cantidad de empresas por pais en el periodo 2015-2022', fontsize=18)\n",
        "plt.title('Top 10 paises con más empresas', fontsize=16)\n",
        "plt.xlabel('País', fontsize=14)\n",
        "plt.xticks(fontsize=12, rotation=15)\n",
        "plt.ylabel('Cantidad de empresas', fontsize=14)\n",
        "ax.set_yticklabels([])\n",
        "sns.despine(left=True,bottom=True)\n",
        "for i,j in enumerate(top_paises_empresas_15_22['Empresa']):\n",
        "    ax.text(i,j+75,str(j),color='black',fontsize=12,ha='center',va='center')\n",
        "\n",
        "ax.tick_params(left=False, bottom=False)\n",
        "\n",
        "\n",
        "plt.show()"
      ],
      "metadata": {
        "id": "CQOm_-Bc7RnQ"
      },
      "execution_count": null,
      "outputs": []
    },
    {
      "cell_type": "markdown",
      "metadata": {
        "id": "db2f28bf"
      },
      "source": [
        "**Informe del Gráfico: Cantidad de empresas por país en el periodo 2015-2022**\n",
        "\n",
        "Este gráfico de barras presenta el Top 10 de países con la mayor cantidad de empresas incluidas en el ranking Forbes Global durante el periodo 2015-2022. De manera consistente con el año 2022, Estados Unidos, China y Japón mantienen su liderazgo en la concentración de grandes empresas a lo largo de estos años."
      ]
    },
    {
      "cell_type": "code",
      "source": [
        "top_paises_empresas_tech_15_22"
      ],
      "metadata": {
        "id": "Q10ux80e7Rhz"
      },
      "execution_count": null,
      "outputs": []
    },
    {
      "cell_type": "code",
      "source": [
        "plt.figure(figsize=(15, 8))\n",
        "\n",
        "ax = sns.barplot(x='Pais', y='Empresa', hue='Pais', data=top_paises_empresas_tech_15_22,\n",
        "                 palette='inferno', legend=False)\n",
        "\n",
        "plt.suptitle('Cantidad de empresas del Área de tecnología y telecomunicaciones\\n por pais en el periodo 2015-2022', fontsize=18, y=1.01)\n",
        "plt.title('Top 5 paises con más empresas Tech', fontsize=16)\n",
        "plt.xlabel('País', fontsize=14)\n",
        "plt.xticks(fontsize=12)\n",
        "plt.ylabel('Cantidad de empresas', fontsize=14)\n",
        "ax.set_yticklabels([])\n",
        "sns.despine(left=True,bottom=True)\n",
        "for i,j in enumerate(top_paises_empresas_tech_15_22['Empresa']):\n",
        "    ax.text(i,j+2,str(j),color='black',fontsize=12,ha='center',va='center')\n",
        "\n",
        "ax.tick_params(left=False, bottom=False)\n",
        "\n",
        "\n",
        "plt.show()"
      ],
      "metadata": {
        "id": "ysTaUs0y7RZw"
      },
      "execution_count": null,
      "outputs": []
    },
    {
      "cell_type": "markdown",
      "metadata": {
        "id": "aa05f797"
      },
      "source": [
        "**Informe del Gráfico: Cantidad de empresas del Área de tecnología y telecomunicaciones por país en el periodo 2015-2022**\n",
        "\n",
        "Este gráfico de barras muestra el Top 5 de países con la mayor cantidad de empresas en las áreas de tecnología y telecomunicaciones en el ranking Forbes Global durante el periodo 2015-2022. Estados Unidos y China siguen siendo los principales actores, seguidos por Taiwan y Japón, lo que subraya su continua importancia en estos sectores a lo largo del tiempo."
      ]
    },
    {
      "cell_type": "code",
      "source": [
        "top_perdidas_empresas_HRE"
      ],
      "metadata": {
        "id": "pw0kqSJl_sdG"
      },
      "execution_count": null,
      "outputs": []
    },
    {
      "cell_type": "code",
      "source": [
        "plt.figure(figsize=(15, 8))\n",
        "colores = ['green' if v >= 0 else 'red' for v in top_perdidas_empresas_HRE['Ganancias']]\n",
        "\n",
        "ax = sns.barplot(x='Empresa', y='Ganancias', hue='Empresa', data=top_perdidas_empresas_HRE, palette='coolwarm_r', legend=False)\n",
        "\n",
        "plt.suptitle('Grafico del margen de perdida de las empresas del Hoteles, Restaurantes y Entretenimiento\\n en el periodo 2015-2022', fontsize=18, y=1.01)\n",
        "plt.title('Top 10 Empresas con mayor margen de perdidas', fontsize=16)\n",
        "plt.xlabel('Empresa', fontsize=14)\n",
        "plt.xticks(fontsize=12, rotation=15)\n",
        "plt.ylabel('Margen de Rentabilidad', fontsize=14)\n",
        "plt.ylim(-10000,2000)\n",
        "plt.axhline(0, color='grey', linewidth=0.8)\n",
        "ax.set_yticklabels([])\n",
        "sns.despine(left=True,bottom=True)\n",
        "\n",
        "\n",
        "for i,j in enumerate(top_perdidas_empresas_HRE['Ganancias']):\n",
        "    ax.text(i,j-200 if j < 0 else j+200,str(j) + '$',color='black',fontsize=12,ha='center',va='center')\n",
        "\n",
        "ax.tick_params(left=False, bottom=False)\n",
        "\n",
        "\n",
        "plt.show()"
      ],
      "metadata": {
        "id": "27260sK__sXZ"
      },
      "execution_count": null,
      "outputs": []
    },
    {
      "cell_type": "markdown",
      "metadata": {
        "id": "5741c808"
      },
      "source": [
        "**Informe del Gráfico: Margen de pérdida de las empresas del Hoteles, Restaurantes y Entretenimiento en el periodo 2015-2022**\n",
        "\n",
        "Este gráfico de barras visualiza el margen de pérdida de las 10 empresas con mayores perjuicios en la industria de Hoteles, Restaurantes y Entretenimiento durante el periodo 2015-2022. Carnival Corporation y Royal Caribbean Group muestran las mayores pérdidas acumuladas en este sector a lo largo de los años indicados."
      ]
    },
    {
      "cell_type": "code",
      "source": [
        "top_empresas_ROA"
      ],
      "metadata": {
        "id": "4FTyeNcW_sRp"
      },
      "execution_count": null,
      "outputs": []
    },
    {
      "cell_type": "code",
      "source": [
        "plt.figure(figsize=(15, 8))\n",
        "\n",
        "ax = sns.barplot(x='Empresa', y='ROA (%)', data=top_empresas_ROA, hue='Empresa',\n",
        "                 palette='inferno', legend=False)\n",
        "\n",
        "plt.suptitle('Rentabilidad de activos en Empresas Americanas de\\n la industria petrolera en el periodo 2015-2022', fontsize=18, y=1.01)\n",
        "plt.title('Empresas que tienen un ROA superior al 20%', fontsize=16)\n",
        "plt.xlabel('Empresa', fontsize=14)\n",
        "plt.xticks(fontsize=12)\n",
        "plt.ylabel('ROA (%)', fontsize=14)\n",
        "ax.set_yticklabels([])\n",
        "sns.despine(left=True,bottom=True)\n",
        "\n",
        "for i,j in enumerate(top_empresas_ROA['ROA (%)']):\n",
        "    ax.text(i,j+1,str(j) + '%',color='black',fontsize=12,ha='center',va='center')\n",
        "\n",
        "ax.tick_params(left=False, bottom=False)\n",
        "\n",
        "\n",
        "plt.show()"
      ],
      "metadata": {
        "id": "054fXxF8_sMD"
      },
      "execution_count": null,
      "outputs": []
    },
    {
      "cell_type": "markdown",
      "metadata": {
        "id": "d542131b"
      },
      "source": [
        "**Informe del Gráfico: Rentabilidad de activos en Empresas Americanas de la industria petrolera en el periodo 2015-2022**\n",
        "\n",
        "Este gráfico de barras presenta las empresas americanas de la industria petrolera que tuvieron una rentabilidad de activos (ROA) superior al 20% en promedio durante el periodo 2015-2022. Weatherford International y Whitecap Resources destacan con un ROA promedio superior a este umbral, indicando una gestión eficiente de sus activos para generar ganancias."
      ]
    },
    {
      "cell_type": "code",
      "source": [
        "empresas_EU_top_rentabilidad"
      ],
      "metadata": {
        "id": "oXhsxJEK_sGg"
      },
      "execution_count": null,
      "outputs": []
    },
    {
      "cell_type": "code",
      "source": [
        "plt.figure(figsize=(15, 8))\n",
        "\n",
        "ax = sns.barplot(x='Margen_de_rentabilidad (%)', y='Industria', hue='Empresa', data=empresas_EU_top_rentabilidad, orient='h', palette=colores_personalizados)\n",
        "\n",
        "plt.suptitle('Margen de Rentabilidad de las Empresas por Industria en Europa\\n durante el periodo 2015-2022', fontsize=18, y=1.01)\n",
        "plt.title('Empresas con mayor margen de rentabilidad por industria', fontsize=16)\n",
        "plt.xlabel('Margen_de_rentabilidad (%)', fontsize=14)\n",
        "plt.ylabel('Industria', fontsize=14)\n",
        "plt.yticks(fontsize=12)\n",
        "\n",
        "ax.set_xticklabels([])\n",
        "sns.despine(left=True,bottom=True)\n",
        "ax.legend(bbox_to_anchor=(1.2,-0.1), bbox_transform=ax.transAxes,\n",
        "          fontsize=10, loc='lower right', title='Empresa')\n",
        "\n",
        "for i,j in enumerate(empresas_EU_top_rentabilidad['Margen_de_rentabilidad (%)']):\n",
        "    ax.text(j+3,i,str(j) + '%',color='black',fontsize=12,ha='center',va='center')\n",
        "\n",
        "ax.tick_params(left=False, bottom=False)\n",
        "\n",
        "plt.show()"
      ],
      "metadata": {
        "id": "ljuHrPr__sAf"
      },
      "execution_count": null,
      "outputs": []
    },
    {
      "cell_type": "markdown",
      "metadata": {
        "id": "296263c5"
      },
      "source": [
        "**Informe del Gráfico: Margen de Rentabilidad de las Empresas por Industria en Europa durante el periodo 2015-2022**\n",
        "\n",
        "Este gráfico de barras horizontal exhibe el margen de rentabilidad de las empresas europeas con el mayor porcentaje de rentabilidad por industria durante el periodo 2015-2022. Se observa la diversidad de industrias y las empresas líderes en rentabilidad dentro de cada sector en Europa a lo largo de estos años."
      ]
    },
    {
      "cell_type": "code",
      "source": [
        "empresas_NA_top_perdidas"
      ],
      "metadata": {
        "id": "PbE-y9Ey_r6J"
      },
      "execution_count": null,
      "outputs": []
    },
    {
      "cell_type": "code",
      "source": [
        "plt.figure(figsize=(15, 8))\n",
        "\n",
        "ax = sns.barplot(x='Empresa', y='Ganancias', hue='Industria', data=empresas_NA_top_perdidas, palette='inferno')\n",
        "\n",
        "plt.suptitle('Margen de Perdidas de las Empresas Norteamericanas por Industria\\n durante el periodo 2015-2022', fontsize=18, y=1.01)\n",
        "plt.title('Top 10 empresas con mayores perdidas', fontsize=16)\n",
        "plt.xlabel('Empresas', fontsize=14)\n",
        "plt.ylabel('Perdidas', fontsize=14)\n",
        "plt.xticks(fontsize=12)\n",
        "ax.set_yticklabels([])\n",
        "sns.despine(left=True,bottom=True)\n",
        "ax.legend(bbox_to_anchor=(1,0.1), bbox_transform=ax.transAxes,\n",
        "          fontsize=10, loc='lower right', title='Industria')\n",
        "\n",
        "for i,j in enumerate(empresas_NA_top_perdidas['Ganancias']):\n",
        "    ax.text(i,j-500,str(j) + '$',color='black',fontsize=12,ha='center',va='center')\n",
        "\n",
        "ax.tick_params(left=False, bottom=False)\n",
        "\n",
        "\n",
        "plt.show()"
      ],
      "metadata": {
        "id": "zRjt0ilo_rxz"
      },
      "execution_count": null,
      "outputs": []
    },
    {
      "cell_type": "markdown",
      "metadata": {
        "id": "507f5d32"
      },
      "source": [
        "**Informe del Gráfico: Margen de Perdidas de las Empresas Norteamericanas por Industria durante el periodo 2015-2022**\n",
        "\n",
        "Este gráfico de barras muestra las 10 empresas norteamericanas con las mayores pérdidas registradas por industria a nivel global durante el periodo 2015-2022. Empresas en sectores como Oil & Gas Operations, Conglomerates y Transportation figuran entre las que experimentaron mayores pérdidas en este periodo."
      ]
    },
    {
      "cell_type": "code",
      "source": [
        "bancos_dist_activos_ingresos_15_22"
      ],
      "metadata": {
        "id": "6tIZJX4RIBZS"
      },
      "execution_count": null,
      "outputs": []
    },
    {
      "cell_type": "code",
      "source": [
        "plt.figure(figsize=(15, 8))\n",
        "\n",
        "ax = sns.scatterplot(x='Ingresos', y='Activos', data=bancos_dist_activos_ingresos_15_22, size='Ganancias', hue='Ganancias', sizes=(50, 200), palette='inferno_r')\n",
        "\n",
        "plt.suptitle('Distribución de Ingresos y Activos con respecto a las ganancias de los bancos (2022)', fontsize=18, y=1.02)\n",
        "plt.title('Distribución de Ingresos y Activos con respecto a las ganancias\\n cuyos activos no superan los 150000 millones de dólares', fontsize=16)\n",
        "plt.xlabel('Ingresos', fontsize=14)\n",
        "plt.ylabel('Activos', fontsize=14)\n",
        "plt.yticks(fontsize=12)\n",
        "plt.xticks(fontsize=12)\n",
        "ax.legend(bbox_to_anchor=(1.2,-0.05), bbox_transform=ax.transAxes,\n",
        "          fontsize=10, loc='lower right', title='Ganancias')\n",
        "\n",
        "ax.tick_params(left=False, bottom=False)\n",
        "\n",
        "\n",
        "plt.show()"
      ],
      "metadata": {
        "id": "0a0c-Ax3IBTf"
      },
      "execution_count": null,
      "outputs": []
    },
    {
      "cell_type": "markdown",
      "metadata": {
        "id": "b3dad403"
      },
      "source": [
        "**Informe del Gráfico: Distribución de Ingresos y Activos con respecto a las ganancias de los bancos (2015-2022)**\n",
        "\n",
        "Este gráfico de dispersión muestra la distribución de Ingresos y Activos en relación con las ganancias de los bancos con activos que no superan los 15,000 millones de dólares durante el periodo 2015-2022. El tamaño de los puntos representa los ingresos. Permite visualizar la relación entre estas métricas para los bancos más pequeños a lo largo de los años."
      ]
    },
    {
      "cell_type": "markdown",
      "source": [
        "##Extra\n",
        "\n",
        "##Gráfico de carrera de barras: Variación del valor de mercado por industria durante el periodo 2015 - 2022"
      ],
      "metadata": {
        "id": "cmNnEclo82eM"
      }
    },
    {
      "cell_type": "code",
      "source": [
        "df_forbes_2015_2022.head()"
      ],
      "metadata": {
        "id": "eMId-1MIIBOd"
      },
      "execution_count": null,
      "outputs": []
    },
    {
      "cell_type": "code",
      "source": [
        "df_valor_mercado_industria = df_forbes_2015_2022.groupby(['Industria','Ano'])[['Valor_de_mercado']].sum().reset_index()\n",
        "\n",
        "display(df_valor_mercado_industria)"
      ],
      "metadata": {
        "id": "hJc-f_LZJDml"
      },
      "execution_count": null,
      "outputs": []
    },
    {
      "cell_type": "code",
      "source": [
        "df_valor_mercado_wide = df_valor_mercado_industria.pivot(index='Ano', columns='Industria', values='Valor_de_mercado')\n",
        "display(df_valor_mercado_wide)"
      ],
      "metadata": {
        "id": "AouBb59Q0F_J"
      },
      "execution_count": null,
      "outputs": []
    },
    {
      "cell_type": "code",
      "source": [
        "# con esto llenamos los valores nulos con el primer o ultimo valor no nulo, segun convenga\n",
        "# Esto para evitar columnas superpuestas, producto de como maneja la libreria las columnas\n",
        "# con valores nulos\n",
        "\n",
        "df_valor_mercado_wide.ffill(inplace=True)\n",
        "df_valor_mercado_wide.bfill(inplace=True)\n",
        "\n",
        "display(df_valor_mercado_wide)"
      ],
      "metadata": {
        "id": "r-_hNfzH9Jsc"
      },
      "execution_count": null,
      "outputs": []
    },
    {
      "cell_type": "code",
      "source": [
        "# df_valor_mercado_wide.to_csv('valor_mercado_por_industria.csv', index=False)"
      ],
      "metadata": {
        "id": "BV_hZdGKlsFS"
      },
      "execution_count": null,
      "outputs": []
    },
    {
      "cell_type": "code",
      "source": [
        "\n",
        "warnings.filterwarnings('ignore')\n",
        "# Guardamos el video en formato mp4 y lo mostramos en pantalla\n",
        "bcr.bar_chart_race(df_valor_mercado_wide, 'valor_mercado_industria.mp4', fixed_max=True, steps_per_period=20, period_length=1000,\n",
        "                   interpolate_period=True, figsize=(7,6), title='Valor de Mercado x Industria (2015-2019)', period_fmt='Año - {x:.0f}')\n",
        "\n",
        "bcr.bar_chart_race(df_valor_mercado_wide, fixed_max=True, steps_per_period=20, period_length=1000,\n",
        "                   interpolate_period=True, figsize=(7,6), title='Valor de Mercado x Industria (2015-2019)', period_fmt='Año - {x:.0f}')\n",
        "\n"
      ],
      "metadata": {
        "id": "dV6srX4qIBEe"
      },
      "execution_count": null,
      "outputs": []
    },
    {
      "cell_type": "markdown",
      "metadata": {
        "id": "1d863a92"
      },
      "source": [
        "**Informe del Gráfico: Carreras de Barras - Variación del valor de mercado por industria (2015-2019)**\n",
        "\n",
        "Este gráfico de carreras de barras animado muestra la variación del valor de mercado total por industria en el ranking Forbes Global durante el periodo 2015-2019. Permite observar de forma dinámica cómo ha evolucionado el valor de mercado de las diferentes industrias a lo largo del tiempo, identificando las que han crecido o disminuido su valor."
      ]
    },
    {
      "cell_type": "code",
      "source": [
        "df_forbes_empleados.head()"
      ],
      "metadata": {
        "id": "_-EvDRDSIA_O"
      },
      "execution_count": null,
      "outputs": []
    },
    {
      "cell_type": "code",
      "source": [
        "df_empleados_por_industria = df_forbes_empleados.groupby(['Ano','Industria'])[['Empleados']].sum().reset_index()\n",
        "\n",
        "df_empleados_por_industria_wide = df_empleados_por_industria.pivot(index='Ano', columns='Industria', values='Empleados')\n",
        "\n",
        "display(df_empleados_por_industria_wide)"
      ],
      "metadata": {
        "id": "oJIEpPLFIA42"
      },
      "execution_count": null,
      "outputs": []
    },
    {
      "cell_type": "code",
      "source": [
        "# con esto llenamos los valores nulos con el primer o ultimo valor no nulo, segun convenga\n",
        "# Esto para evitar columnas superpuestas, producto de como maneja la libreria las columnas\n",
        "# con valores nulos\n",
        "\n",
        "df_empleados_por_industria_wide.ffill(inplace=True)\n",
        "df_empleados_por_industria_wide.bfill(inplace=True)\n",
        "\n",
        "df_empleados_por_industria_wide.info()"
      ],
      "metadata": {
        "id": "qhafmxaUPCGY"
      },
      "execution_count": null,
      "outputs": []
    },
    {
      "cell_type": "code",
      "source": [
        "# df_empleados_por_industria_wide.to_csv('empleados_por_industria.csv', index=False)"
      ],
      "metadata": {
        "id": "GtnPNNJDkNcH"
      },
      "execution_count": null,
      "outputs": []
    },
    {
      "cell_type": "code",
      "metadata": {
        "id": "d2b6d8f5"
      },
      "source": [
        "# Guardamos el video en formato mp4 y lo mostramos en pantalla\n",
        "\n",
        "bcr.bar_chart_race(df_empleados_por_industria_wide, 'Empleados_por_industria.mp4', fixed_max=True, steps_per_period=20, period_length=1000,\n",
        "                   interpolate_period=True, figsize=(7,6), title='Numero de Empleados x Industria (2015-2019)',\n",
        "                   period_fmt='Año - {x:.0f}')\n",
        "\n",
        "\n",
        "bcr.bar_chart_race(df_empleados_por_industria_wide, fixed_max=True, steps_per_period=20, period_length=1000,\n",
        "                   interpolate_period=True, figsize=(7,6), title='Numero de Empleados x Industria (2015-2019)',\n",
        "                   period_fmt='Año - {x:.0f}')"
      ],
      "execution_count": null,
      "outputs": []
    },
    {
      "cell_type": "markdown",
      "metadata": {
        "id": "1ac16d9c"
      },
      "source": [
        "**Informe del Gráfico: Carreras de Barras - Número de Empleados por Industria (2015-2019)**\n",
        "\n",
        "Este gráfico de carreras de barras animado visualiza la variación en el número total de empleados por industria según el ranking Forbes Global durante el periodo 2015-2019. Este gráfico dinámico permite observar los cambios en el tamaño de la fuerza laboral en las diferentes industrias a lo largo del tiempo."
      ]
    },
    {
      "cell_type": "code",
      "source": [
        "df_forbes_2022.head()"
      ],
      "metadata": {
        "id": "aCZBUOjpMorF"
      },
      "execution_count": null,
      "outputs": []
    },
    {
      "cell_type": "code",
      "source": [
        "df_ventas_globales = df_forbes_2022.groupby(['Pais','Codigo'])[['Ingresos']].sum().reset_index()\n",
        "\n",
        "display(df_ventas_globales.head())"
      ],
      "metadata": {
        "id": "5uwH-VPBMQqq"
      },
      "execution_count": null,
      "outputs": []
    },
    {
      "cell_type": "code",
      "source": [
        "df_ventas_globales.to_csv('ventas_globales.csv',index=False)"
      ],
      "metadata": {
        "id": "LscwR834l9nd"
      },
      "execution_count": null,
      "outputs": []
    },
    {
      "cell_type": "code",
      "source": [
        "plt.figure(figsize=(15, 8))\n",
        "\n",
        "fig = px.choropleth(df_ventas_globales, locations=\"Codigo\",\n",
        "                    color=\"Ingresos\",\n",
        "                    hover_name=\"Pais\",\n",
        "                    hover_data={'Ingresos':':.2f'},\n",
        "                    color_continuous_scale=px.colors.sequential.Inferno,\n",
        "                    title='Total de Ventas Globales x País (2022)')\n",
        "\n",
        "\n",
        "fig.show()"
      ],
      "metadata": {
        "id": "GStwlz9lLBxu"
      },
      "execution_count": null,
      "outputs": []
    }
  ],
  "metadata": {
    "colab": {
      "collapsed_sections": [
        "Xk-cBixbAebK",
        "cRO2byk4M7Rs",
        "PRc3VTbTdPVm",
        "PQqyBxHpiiNj",
        "STLS0s08hESq"
      ],
      "provenance": []
    },
    "kernelspec": {
      "display_name": "Python 3",
      "name": "python3"
    },
    "language_info": {
      "name": "python"
    }
  },
  "nbformat": 4,
  "nbformat_minor": 0
}